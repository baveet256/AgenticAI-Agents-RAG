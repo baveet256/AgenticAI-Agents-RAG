{
 "cells": [
  {
   "cell_type": "code",
   "execution_count": 6,
   "metadata": {},
   "outputs": [],
   "source": [
    "from langgraph.graph import StateGraph, START,END\n",
    "from langchain_core.messages import BaseMessage,HumanMessage,ToolMessage,SystemMessage\n",
    "from langchain_core.tools import tool\n",
    "from langgraph.graph import add_messages\n",
    "from langgraph.prebuilt import ToolNode\n",
    "from typing import TypedDict,Annotated,Sequence,List"
   ]
  },
  {
   "cell_type": "code",
   "execution_count": 7,
   "metadata": {},
   "outputs": [],
   "source": [
    "from dotenv import load_dotenv\n",
    "load_dotenv()\n",
    "from langchain_groq import ChatGroq\n",
    "import os\n",
    "os.environ[\"GROQ_API_KEY\"] = os.getenv(\"GROQ_API_KEY\")\n",
    "os.environ[\"TAVILY_API_KEY\"] = os.getenv(\"TAVILY_API_KEY\")\n",
    "llm = ChatGroq(model=\"Gemma2-9b-It\")"
   ]
  },
  {
   "cell_type": "markdown",
   "metadata": {},
   "source": [
    "## Orchestrator, Synthesizer workflow"
   ]
  },
  {
   "cell_type": "markdown",
   "metadata": {},
   "source": [
    "### So its like a manager, which first creates a draft report which has the structure ready and then assigns/ creates one worker per section. Workers are like llm calls being made for each sections, and after this, a synthesizer then combines all the sections, made by workers in the final draft. and we have a final solution of the problem"
   ]
  },
  {
   "cell_type": "code",
   "execution_count": 8,
   "metadata": {},
   "outputs": [],
   "source": [
    "from pydantic import BaseModel,Field\n",
    "\n",
    "class Section(BaseModel):\n",
    "    name:str = Field(description=\"Name for this section\")\n",
    "    description:str= Field(description=\"Description for the section\")\n",
    "\n",
    "class Sections(BaseModel):\n",
    "    sections: List[Section]=Field(description=\"Worker's sections\")\n",
    "\n",
    "## Augmenting LLm to return a particular type of output\n",
    "orchester_llm = llm.with_structured_output(Sections)"
   ]
  },
  {
   "cell_type": "markdown",
   "metadata": {},
   "source": [
    "### Dynamic workers creation - Send API Lets you do it, (It creates workers and all have a shared state so that orchester has acces to it)"
   ]
  },
  {
   "cell_type": "code",
   "execution_count": 9,
   "metadata": {},
   "outputs": [],
   "source": [
    "from langgraph.constants import Send\n",
    "from typing import TypedDict\n",
    "import operator\n",
    "\n",
    "class AgentState(TypedDict):\n",
    "    topic:str\n",
    "    sections: list[Section]\n",
    "    completed_sections: Annotated[list,operator.add]\n",
    "    final_report:str"
   ]
  },
  {
   "cell_type": "code",
   "execution_count": 10,
   "metadata": {},
   "outputs": [],
   "source": [
    "## Dynamic worker State\n",
    "\n",
    "class WorkerState(TypedDict):\n",
    "    Section:Section\n",
    "    completed_sections: Annotated[list,operator.add] "
   ]
  },
  {
   "cell_type": "code",
   "execution_count": 27,
   "metadata": {},
   "outputs": [],
   "source": [
    "def orchestrator(state:AgentState):\n",
    "    ### manager, generator initial report structure\n",
    "    #### then create workers and assign them sections\n",
    "\n",
    "    report_initial = orchester_llm.invoke(\n",
    "        [\n",
    "            SystemMessage(content=\"Generate a technical and report plan for the topic\"),\n",
    "            HumanMessage(content=f\"Here is the topic : {state['topic']}\")\n",
    "        ]\n",
    "    )\n",
    "    ### report making done, and the output has to be list of sections, because we have Augmented LLM to give a particular type of output!!\n",
    "    return {\"sections\":report_initial.sections}"
   ]
  },
  {
   "cell_type": "code",
   "execution_count": 54,
   "metadata": {},
   "outputs": [],
   "source": [
    "def llm_call(state:WorkerState):\n",
    "    \"\"\"Worker write a report for each section\"\"\"\n",
    "    \n",
    "    report_section = llm.invoke(\n",
    "        [\n",
    "            SystemMessage(content= f\"Write a section of the report provided the name and the description. Remeber to be mathematical and technical\" ),\n",
    "            HumanMessage(content=f\"Here is the section name : {state['Section'].name}and description : {state['Section'].description} \")\n",
    "        ]\n",
    "    )\n",
    "\n",
    "    return {\"completed_sections\":[report_section.content]}"
   ]
  },
  {
   "cell_type": "code",
   "execution_count": 63,
   "metadata": {},
   "outputs": [],
   "source": [
    "####  Send api to dynamically call llm depending on the number of sections created in orchester nodel\n",
    "\n",
    "def assign_calls(state:AgentState):\n",
    "\n",
    "    return [Send(\"Dynamic_Workers\", {\"Section\":s}) for s in state[\"sections\"]]"
   ]
  },
  {
   "cell_type": "code",
   "execution_count": 57,
   "metadata": {},
   "outputs": [],
   "source": [
    "def synthesizer(state:AgentState):\n",
    "\n",
    "    completed_section = state['completed_sections']\n",
    "\n",
    "    all_sections = \"\\n\\n---\\n\\n\".join(completed_section)\n",
    "\n",
    "    return {\"final_report\":all_sections}"
   ]
  },
  {
   "cell_type": "code",
   "execution_count": 64,
   "metadata": {},
   "outputs": [],
   "source": [
    "graph = StateGraph(AgentState)\n",
    "\n",
    "graph.add_node(\"Orchester/Manager\",orchestrator)\n",
    "graph.add_node(\"Dynamic_Workers\",llm_call)\n",
    "graph.add_node(\"synthesizer\",synthesizer)\n",
    "\n",
    "graph.add_edge(START,\"Orchester/Manager\")\n",
    "graph.add_conditional_edges(\n",
    "    \"Orchester/Manager\",\n",
    "    assign_calls,\n",
    "    {\"Dynamic_Workers\":\"Dynamic_Workers\"}\n",
    ")\n",
    "graph.add_edge(\"Dynamic_Workers\",\"synthesizer\")\n",
    "graph.add_edge(\"synthesizer\",END)\n",
    "\n",
    "build = graph.compile()"
   ]
  },
  {
   "cell_type": "code",
   "execution_count": 65,
   "metadata": {},
   "outputs": [
    {
     "data": {
      "image/png": "[encoded data removed]",
      "text/plain": [
       "<IPython.core.display.Image object>"
      ]
     },
     "metadata": {},
     "output_type": "display_data"
    }
   ],
   "source": [
    "from IPython.display import Image,display,Markdown\n",
    "display(Image(build.get_graph().draw_mermaid_png()))"
   ]
  },
  {
   "cell_type": "markdown",
   "metadata": {},
   "source": [
    "## Blog Generation using Orchester/Synthesizer Workflow"
   ]
  },
  {
   "cell_type": "code",
   "execution_count": 66,
   "metadata": {},
   "outputs": [
    {
     "data": {
      "text/markdown": [
       "## Introduction to Retrieval Augmented Generation (RAG)\n",
       "\n",
       "Retrieval Augmented Generation (RAG) represents a paradigm shift in natural language generation (NLG) by seamlessly integrating external knowledge sources into the generative process. Traditional NLG models rely solely on their internal training data, often leading to limitations in factual accuracy, factual consistency, and the ability to access specialized domain knowledge. RAG addresses these limitations by incorporating a retrieval component that retrieves relevant information from a vast external knowledge base (KB).\n",
       "\n",
       "**The RAG framework comprises two key components:**\n",
       "\n",
       "1. **Retrieval Module:** This component acts as a query processor, taking a user's prompt or query as input and retrieving the most relevant passages from the KB.  Various techniques can be employed for retrieval, including:\n",
       "    * **Dense Passage Retrieval (DPR):** Utilizes learned embeddings of both queries and passages to compute semantic similarity. \n",
       "    * **BM25:**  A classic ranking algorithm based on term frequency and inverse document frequency.\n",
       "    * **Transformer-based Retrieval:** Employs transformer models, like BERT or RoBERTa, to capture contextual information and improve passage relevance. \n",
       "\n",
       "2. **Generation Module:**  This component leverages the retrieved information to generate a comprehensive and coherent response.  \n",
       "\n",
       "    * **Prompt Engineering:** The retrieved passages are carefully incorporated into the prompt for the generation module, providing context and guiding the generation process.\n",
       "\n",
       "    * **In-Context Learning:** The generation model learns to use the retrieved information within the given context, effectively incorporating external knowledge into its generation capabilities.\n",
       "\n",
       "**Mathematical Representation:**\n",
       "\n",
       "RAG can be represented mathematically as a function:\n",
       "\n",
       "**G(Q, KB) = f(R(Q, KB), P)**\n",
       "\n",
       "Where:\n",
       "\n",
       "* **G(Q, KB)** represents the generated response given a query **Q** and a knowledge base **KB**.\n",
       "* **R(Q, KB)** is the set of retrieved passages from **KB** based on **Q**.\n",
       "* **P** is the generation prompt, which incorporates **R(Q, KB)**.\n",
       "* **f()** is the generation function, which utilizes **P** to produce the final response.\n",
       "\n",
       "**Benefits of RAG:**\n",
       "\n",
       "* Enhanced Factual Accuracy: By grounding generation in external knowledge sources, RAG significantly improves the accuracy and reliability of generated responses.\n",
       "* Domain Expertise: RAG allows access to specialized domain knowledge, enabling the generation of more informed and insightful responses in specific fields.\n",
       "* Contextual Coherence: The retrieval and incorporation of relevant passages enhance the contextual coherence and relevance of generated text.\n",
       "* Scalability & Adaptability: RAG systems can be readily adapted to new domains and knowledge bases by updating the underlying KB. \n",
       "\n",
       "\n",
       "This introduction provides a foundational understanding of RAG, highlighting its key components, mathematical representation, and potential benefits. \n",
       "\n",
       "\n",
       "---\n",
       "\n",
       "## RAG Models: Architectures and Types\n",
       "\n",
       "Retrieval-Augmented Generation (RAG) models combine the strengths of large language models (LLMs) with the factual grounding provided by external knowledge sources. This section explores the diverse architectures and types of RAG models, highlighting their key characteristics and functionalities.\n",
       "\n",
       "**1. Architecture Overview:**\n",
       "\n",
       "At their core, RAG models consist of two primary components:\n",
       "\n",
       "* **Information Retriever:** This component acts as the knowledge seeker, retrieving relevant passages from a knowledge base (KB) based on a given user query. Common information retrieval techniques employed include:\n",
       "    * **BM25:** A ranking function that considers both term frequency and inverse document frequency in the KB to score passage relevance.\n",
       "    * **Dense Passage Retrieval (DPR):** Utilizes embedding techniques to represent both queries and passages as dense vectors, allowing for similarity-based retrieval.\n",
       "* **Generative Model:** This component processes the retrieved passages and generates a response based on the user's query. It leverages the power of LLMs to understand context, synthesize information, and generate coherent and grammatically correct text. Popular generative models include:\n",
       "    * **Transformer-based LLMs:** Architectures like BERT, GPT, and T5 excel at understanding and generating human-like text, making them suitable for RAG.\n",
       "\n",
       "**2. Types of RAG Models:**\n",
       "\n",
       "Several variations of RAG models exist, each tailored to specific use cases and knowledge base structures.\n",
       "\n",
       "* **Query-Based RAG:** The most common type, where the retriever retrieves passages directly related to the user's query. \n",
       "* **Context-Aware RAG:** Involves incorporating contextual information from previous interactions or dialogue history to refine both retrieval and generation processes.\n",
       "* **Chain-of-Thought RAG:**  Encourages the model to explicitly reason through the information retrieved, breaking down complex tasks into a series of steps.\n",
       "* **Multi-Modal RAG:** Extends RAG to incorporate other modalities like images, audio, or video, enabling richer and more comprehensive responses.\n",
       "\n",
       "**3. Key Considerations:**\n",
       "\n",
       "Choosing the appropriate RAG model architecture and type depends on factors such as:\n",
       "\n",
       "* **Knowledge Base Structure:** The format and organization of the KB influence the retrieval strategy.\n",
       "* **Task Complexity:**  Complex tasks requiring reasoning and multi-step solutions benefit from more sophisticated architectures like Chain-of-Thought RAG.\n",
       "* **Resource Availability:** Training and deploying complex RAG models can be computationally expensive.\n",
       "\n",
       "**4. Future Directions:**\n",
       "\n",
       "Research in RAG is rapidly evolving, focusing on:\n",
       "\n",
       "* **Improved Retrieval Techniques:**  Exploring novel methods for efficient and accurate passage retrieval, particularly for large and complex KBs.\n",
       "* **Enhanced Generation Capabilities:**  Developing more sophisticated generative models capable of handling diverse tasks and generating nuanced and creative responses.\n",
       "* **Explainability and Trustworthiness:**  Making RAG models more transparent and interpretable to build trust and understand their decision-making processes.\n",
       "\n",
       "\n",
       "\n",
       "This section provides a foundational understanding of RAG models and their diverse implementations. As the field continues to advance, we can expect even more powerful and versatile RAG systems capable of revolutionizing how we interact with information. \n",
       "\n",
       "\n",
       "---\n",
       "\n",
       "## Applications of RAG\n",
       "\n",
       "This section delves into the diverse applications of Retrieval-Augmented Generation (RAG) across various domains. RAG's ability to seamlessly integrate external knowledge with generative capabilities unlocks novel solutions and enhances performance in numerous tasks.\n",
       "\n",
       "**1. Question Answering (QA):**\n",
       "\n",
       "RAG significantly improves the accuracy and comprehensiveness of question answering systems. By retrieving relevant information from a knowledge base, RAG allows models to provide more precise and contextually rich answers compared to purely generative approaches. This is particularly beneficial in domains with vast amounts of factual information, such as:\n",
       "\n",
       "* **E-commerce:** Answering customer queries about product specifications, availability, and reviews.\n",
       "* **Education:** Providing students with detailed answers to questions based on textbooks, research papers, and online learning materials.\n",
       "* **Healthcare:** Assisting medical professionals in retrieving patient information, drug interactions, and clinical guidelines.\n",
       "\n",
       "**2. Text Summarization:**\n",
       "\n",
       "RAG enhances text summarization by enabling models to access and incorporate relevant background information. \n",
       "\n",
       "This results in summaries that are more accurate, informative, and contextually aligned with the original text. Applications include:\n",
       "\n",
       "* **News Aggregation:** Generating concise summaries of multiple news articles on a specific topic.\n",
       "* **Meeting Minutes:** Creating accurate and comprehensive summaries of meeting discussions.\n",
       "* **Research Paper Abstracts:** Generating succinct summaries of research papers for easier comprehension.\n",
       "\n",
       "**3. Dialogue Systems:**\n",
       "\n",
       "RAG empowers dialogue systems to engage in more natural and meaningful conversations.\n",
       "\n",
       "By retrieving relevant information from a knowledge base, models can provide more contextually aware and helpful responses. This is crucial for applications like:\n",
       "\n",
       "* **Customer Service Chatbots:**  Providing accurate and personalized support to customers.\n",
       "* **Virtual Assistants:** Answering user queries, scheduling appointments, and completing tasks.\n",
       "* **Educational Chatbots:** Guiding students through learning materials and providing personalized instruction.\n",
       "\n",
       "**4. Creative Writing:**\n",
       "\n",
       "RAG can be used to assist in creative writing tasks by providing writers with relevant information, inspiration, and suggestions.\n",
       "\n",
       "For example, RAG can:\n",
       "\n",
       "* **Generate story ideas:** By retrieving information from a database of plots, characters, and settings.\n",
       "* **Suggest character traits:** Based on a description of the character's background and motivations.\n",
       "* **Provide historical context:** For fictional stories set in the past.\n",
       "\n",
       "**5. Code Generation:**\n",
       "\n",
       "RAG can assist in code generation by retrieving relevant code snippets, documentation, and examples.\n",
       "\n",
       "This can help developers write code more efficiently and accurately.\n",
       "\n",
       "* **Suggest code snippets:** Based on a natural language description of the desired functionality.\n",
       "* **Generate documentation:** For existing code based on comments and function signatures.\n",
       "* **Translate code between programming languages:** By retrieving equivalent code snippets in the target language.\n",
       "\n",
       "\n",
       "\n",
       "These examples demonstrate the versatility and potential of RAG across diverse domains. As research and development in this field continue, we can expect even more innovative applications of RAG to emerge, further blurring the lines between human intelligence and artificial intelligence. \n",
       "\n",
       "\n",
       "---\n",
       "\n",
       "## Challenges and Future Directions\n",
       "\n",
       "Recent advancements in Retrieval Augmented Generation (RAG) have demonstrated significant potential for enhancing the capabilities of language models. However, several challenges remain to be addressed before RAG can fully realize its potential and achieve widespread adoption. \n",
       "\n",
       "**1. Data Efficiency and Bias:** \n",
       "\n",
       "Current RAG models often require massive datasets for training, which can be expensive and time-consuming to acquire. Moreover, biases present in training data can be amplified by the retrieval process, leading to unfair or inaccurate outputs. Future research should focus on developing more data-efficient training methods and exploring techniques to mitigate bias in both the retrieved information and the generated text.\n",
       "\n",
       "**2. Retrieval Accuracy and Relevance:**\n",
       "\n",
       "The quality of retrieved information directly impacts the quality of the generated output. Existing retrieval methods often struggle to identify highly relevant documents, especially when dealing with complex or nuanced queries. \n",
       "\n",
       "Improvements in retrieval techniques, such as incorporating semantic understanding, contextual awareness, and personalized search strategies, are crucial for enhancing RAG performance.\n",
       "\n",
       "**3. Explainability and Interpretability:**\n",
       "\n",
       "The black-box nature of many RAG models makes it difficult to understand how they arrive at their outputs.  Developing techniques to improve the explainability and interpretability of RAG models is essential for building trust and ensuring responsible use. This includes visualizing the retrieval process, identifying influential retrieved documents, and providing insights into the reasoning behind the generated text.\n",
       "\n",
       "**4. Scalability and Efficiency:**\n",
       "\n",
       "Scaling RAG systems to handle large-scale real-world applications poses significant computational and infrastructural challenges.  Research on efficient indexing and retrieval algorithms, as well as distributed training and inference techniques, is needed to address these scalability concerns.\n",
       "\n",
       "**Future Directions:**\n",
       "\n",
       "* **Hybrid Approaches:** Combining RAG with other AI techniques, such as knowledge graphs and reasoning engines, can lead to more comprehensive and intelligent systems.\n",
       "* **Multi-Modal RAG:** Extending RAG to incorporate other modalities, such as images, audio, and video, can unlock new possibilities for richer and more interactive applications.\n",
       "* **Personalization and Customization:**  Developing personalized RAG systems that adapt to individual user needs and preferences will enhance user experience and enable more tailored applications.\n",
       "* **Ethical Considerations:**  Addressing ethical concerns related to bias, fairness, and accountability in RAG systems is crucial for ensuring responsible development and deployment.\n",
       "\n",
       "\n",
       "\n",
       "By tackling these challenges and exploring these future directions, the field of RAG can continue to advance and unlock the full potential of language models for a wide range of applications. \n"
      ],
      "text/plain": [
       "<IPython.core.display.Markdown object>"
      ]
     },
     "execution_count": 66,
     "metadata": {},
     "output_type": "execute_result"
    }
   ],
   "source": [
    "resp = build.invoke({\"topic\":\"Report on Retrieval Augmented Generation\"})\n",
    "\n",
    "Markdown(resp[\"final_report\"])"
   ]
  }
 ],
 "metadata": {
  "kernelspec": {
   "display_name": "myenv",
   "language": "python",
   "name": "python3"
  },
  "language_info": {
   "codemirror_mode": {
    "name": "ipython",
    "version": 3
   },
   "file_extension": ".py",
   "mimetype": "text/x-python",
   "name": "python",
   "nbconvert_exporter": "python",
   "pygments_lexer": "ipython3",
   "version": "3.12.2"
  }
 },
 "nbformat": 4,
 "nbformat_minor": 2
}
