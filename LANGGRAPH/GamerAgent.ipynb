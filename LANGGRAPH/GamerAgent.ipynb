{
 "cells": [
  {
   "cell_type": "code",
   "execution_count": 14,
   "metadata": {},
   "outputs": [],
   "source": [
    "from langgraph.graph import StateGraph, START,END\n",
    "from typing import TypedDict\n",
    "from random import randint\n",
    "\n",
    "class AgentState(TypedDict):\n",
    "    name:str\n",
    "    guesses:list[int]\n",
    "    attempts:int\n",
    "    lower_bound:int\n",
    "    upper_bound:int\n",
    "    target_number:int"
   ]
  },
  {
   "cell_type": "code",
   "execution_count": 15,
   "metadata": {},
   "outputs": [],
   "source": [
    "def setup(state:AgentState):\n",
    "    print(f\"Welcome to the game {state['name']}\")\n",
    "    state['guesses'] = []\n",
    "    state['target_number'] = randint(1,20)\n",
    "    state['attempts'] = 0\n",
    "    state['lower_bound'] = 1\n",
    "    state['upper_bound'] = 20\n",
    "    return state"
   ]
  },
  {
   "cell_type": "code",
   "execution_count": 16,
   "metadata": {},
   "outputs": [],
   "source": [
    "def guess(state:AgentState):\n",
    "    ## make a choice between and including lower_bound and upper_bound\n",
    "    ## attach it to guesses and then send it to hint node\n",
    "    rand_guess= randint(state['lower_bound'],state['upper_bound'])\n",
    "    state['attempts']+=1\n",
    "    print(f\"Attempt no. {state['attempts']}\")\n",
    "    print(f\"Now my guess is : {rand_guess}\")\n",
    "    state['guesses'].append(rand_guess)\n",
    "    return state\n",
    "\n",
    "def hint_node(state:AgentState):\n",
    "    ## if last guess = target then end\n",
    "    if state['guesses'][-1] == state['target_number']:\n",
    "        print(f\"I got it, I guessed : {state['guesses'][-1]} which is same as target = {state['target_number']}\")\n",
    "        print(f\"Took me {state['attempts']} attempts\")\n",
    "        return state\n",
    "    \n",
    "    if state['guesses'][-1] < state['target_number']:\n",
    "        state['lower_bound'] = state['guesses'][-1]+1\n",
    "    elif state['guesses'][-1] > state['target_number']:\n",
    "        state['upper_bound'] = state['guesses'][-1]-1\n",
    "    print(f\"Alr, now searching for range: [{state['lower_bound']},{state['upper_bound']}]\")\n",
    "    return state\n",
    "\n",
    "def decide(state:AgentState):\n",
    "    if state['guesses'][-1] == state['target_number'] or state['attempts']>=7:\n",
    "        return \"endit\"\n",
    "    \n",
    "    return \"continue\""
   ]
  },
  {
   "cell_type": "code",
   "execution_count": 17,
   "metadata": {},
   "outputs": [],
   "source": [
    "graph = StateGraph(AgentState)\n",
    "graph.add_node(\"Setup\",setup)\n",
    "graph.add_node(\"guess\",guess)\n",
    "graph.add_node(\"hint_node\",hint_node)\n",
    "\n",
    "graph.add_edge(START,\"Setup\")\n",
    "graph.add_edge(\"Setup\",\"guess\")\n",
    "graph.add_edge(\"guess\",\"hint_node\")\n",
    "\n",
    "graph.add_conditional_edges(\n",
    "    \"hint_node\",\n",
    "    decide,\n",
    "    {\n",
    "        \"continue\":\"guess\",\n",
    "        \"endit\":END\n",
    "    }\n",
    ")\n",
    "build = graph.compile()"
   ]
  },
  {
   "cell_type": "code",
   "execution_count": 18,
   "metadata": {},
   "outputs": [
    {
     "data": {
      "image/png": "[encoded data removed]",
      "text/plain": [
       "<IPython.core.display.Image object>"
      ]
     },
     "metadata": {},
     "output_type": "display_data"
    }
   ],
   "source": [
    "from IPython.display import display,Image\n",
    "display(Image(build.get_graph().draw_mermaid_png()))"
   ]
  },
  {
   "cell_type": "code",
   "execution_count": 19,
   "metadata": {},
   "outputs": [
    {
     "name": "stdout",
     "output_type": "stream",
     "text": [
      "Welcome to the game Baveet\n",
      "Attempt no. 1\n",
      "Now my guess is : 17\n",
      "Alr, now searching for range: [1,16]\n",
      "Attempt no. 2\n",
      "Now my guess is : 15\n",
      "I got it, I guessed : 15 which is same as target = 15\n",
      "Took me 2 attempts\n"
     ]
    }
   ],
   "source": [
    "result = build.invoke({\"name\": \"Baveet\", \"guesses\": [], \"attempts\": 0, \"lower_bound\": 1, \"upper_bound\": 20,\"target_number\":\"-5\"})"
   ]
  }
 ],
 "metadata": {
  "kernelspec": {
   "display_name": "myenv",
   "language": "python",
   "name": "python3"
  },
  "language_info": {
   "codemirror_mode": {
    "name": "ipython",
    "version": 3
   },
   "file_extension": ".py",
   "mimetype": "text/x-python",
   "name": "python",
   "nbconvert_exporter": "python",
   "pygments_lexer": "ipython3",
   "version": "3.12.2"
  }
 },
 "nbformat": 4,
 "nbformat_minor": 2
}
