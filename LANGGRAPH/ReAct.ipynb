{
 "cells": [
  {
   "cell_type": "code",
   "execution_count": 16,
   "metadata": {},
   "outputs": [],
   "source": [
    "from langgraph.graph import StateGraph, START,END\n",
    "from langchain_core.messages import BaseMessage,HumanMessage,ToolMessage,SystemMessage\n",
    "from langchain_core.tools import tool\n",
    "from langgraph.graph import add_messages\n",
    "from langgraph.prebuilt import ToolNode\n",
    "from typing import TypedDict,Annotated,Sequence"
   ]
  },
  {
   "cell_type": "code",
   "execution_count": 59,
   "metadata": {},
   "outputs": [],
   "source": [
    "from dotenv import load_dotenv\n",
    "load_dotenv()\n",
    "from langchain_groq import ChatGroq\n",
    "import os\n",
    "os.environ[\"GROQ_API_KEY\"] = os.getenv(\"GROQ_API_KEY\")\n",
    "os.environ[\"TAVILY_API_KEY\"] = os.getenv(\"TAVILY_API_KEY\")\n",
    "llm = ChatGroq(model=\"Gemma2-9b-It\")\n"
   ]
  },
  {
   "cell_type": "code",
   "execution_count": 40,
   "metadata": {},
   "outputs": [],
   "source": [
    "class AgentState(TypedDict):\n",
    "    messages: Annotated[Sequence[BaseMessage],add_messages]"
   ]
  },
  {
   "cell_type": "code",
   "execution_count": 68,
   "metadata": {},
   "outputs": [],
   "source": [
    "@tool\n",
    "def add(a,b):\n",
    "    \"\"\" This is to add 2 numbers and returns their addition\"\"\"\n",
    "    print(\"Tool was called\")\n",
    "    return a+b\n",
    "\n",
    "def divide(a,b):\n",
    "    \"\"\" This is to divide 2 numbers and returns their division result\"\"\"\n",
    "    return a/b\n",
    "\n",
    "from langchain_tavily import TavilySearch\n",
    "\n",
    "tavilytool = TavilySearch(\n",
    "    max_results=5,\n",
    "    topic=\"general\",\n",
    ")"
   ]
  },
  {
   "cell_type": "code",
   "execution_count": 71,
   "metadata": {},
   "outputs": [],
   "source": [
    "tools = [add,tavilytool,divide]"
   ]
  },
  {
   "cell_type": "code",
   "execution_count": 72,
   "metadata": {},
   "outputs": [],
   "source": [
    "llm = ChatGroq(model=\"Gemma2-9b-It\").bind_tools(tools)"
   ]
  },
  {
   "cell_type": "code",
   "execution_count": 73,
   "metadata": {},
   "outputs": [],
   "source": [
    "def model_call(state:AgentState):\n",
    "    system_prompt = SystemMessage(content=\"You are a helpful assistant, please answer my questions\")\n",
    "    response = llm.invoke([system_prompt] + state['messages'])\n",
    "    return {\"messages\":[response]}"
   ]
  },
  {
   "cell_type": "code",
   "execution_count": 74,
   "metadata": {},
   "outputs": [],
   "source": [
    "def should_continue(state:AgentState):\n",
    "    messages = state['messages']\n",
    "    last_message = messages[-1]\n",
    "    if not last_message.tool_calls:\n",
    "        return \"end\"\n",
    "    return \"continue\""
   ]
  },
  {
   "cell_type": "code",
   "execution_count": 75,
   "metadata": {},
   "outputs": [],
   "source": [
    "graph = StateGraph(AgentState)\n",
    "graph.add_node(\"caller\",model_call)\n",
    "tool_node = ToolNode(tools=tools)\n",
    "graph.add_node(\"Toolbox\",tool_node)\n",
    "\n",
    "graph.set_entry_point(\"caller\")\n",
    "graph.add_edge(\"Toolbox\",\"caller\")\n",
    "graph.add_conditional_edges(\n",
    "    \"caller\",\n",
    "    should_continue,\n",
    "    {\n",
    "        \"continue\":\"Toolbox\",\n",
    "        \"end\":END\n",
    "    }\n",
    ")\n",
    "build = graph.compile()"
   ]
  },
  {
   "cell_type": "code",
   "execution_count": 76,
   "metadata": {},
   "outputs": [
    {
     "data": {
      "image/png": "[encoded data removed]",
      "text/plain": [
       "<IPython.core.display.Image object>"
      ]
     },
     "metadata": {},
     "output_type": "display_data"
    }
   ],
   "source": [
    "from IPython.display import display,Image\n",
    "display(Image(build.get_graph().draw_mermaid_png()))"
   ]
  },
  {
   "cell_type": "code",
   "execution_count": 80,
   "metadata": {},
   "outputs": [
    {
     "name": "stdout",
     "output_type": "stream",
     "text": [
      "================================\u001b[1m Human Message \u001b[0m=================================\n",
      "\n",
      "Add 40 and  12. Also tell some latest cricket news, and also divide the previous result by 13\n",
      "==================================\u001b[1m Ai Message \u001b[0m==================================\n",
      "Tool Calls:\n",
      "  add (6c9s49zd6)\n",
      " Call ID: 6c9s49zd6\n",
      "  Args:\n",
      "    a: 40\n",
      "    b: 12\n",
      "Tool was called\n",
      "=================================\u001b[1m Tool Message \u001b[0m=================================\n",
      "Name: add\n",
      "\n",
      "52\n",
      "==================================\u001b[1m Ai Message \u001b[0m==================================\n",
      "Tool Calls:\n",
      "  divide (ve99jdrwy)\n",
      " Call ID: ve99jdrwy\n",
      "  Args:\n",
      "    a: 52\n",
      "    b: 13\n",
      "=================================\u001b[1m Tool Message \u001b[0m=================================\n",
      "Name: divide\n",
      "\n",
      "4.0\n",
      "==================================\u001b[1m Ai Message \u001b[0m==================================\n",
      "\n",
      "Some latest cricket news is:\n",
      "\n",
      "England won the 1st Test against Bangladesh by 2 wickets in Chattogram on Sunday.\n"
     ]
    }
   ],
   "source": [
    "def print_stream(stream):\n",
    "    for s in stream:\n",
    "        message = s[\"messages\"][-1]\n",
    "        if isinstance(message, tuple):\n",
    "            print(message)\n",
    "        else:\n",
    "            message.pretty_print()\n",
    "\n",
    "inputs = {\"messages\": [(\"user\", \"Add 40 and  12. Also tell some latest cricket news, and also divide the previous result by 13\")]}\n",
    "print_stream(build.stream(inputs, stream_mode=\"values\"))"
   ]
  },
  {
   "cell_type": "markdown",
   "metadata": {},
   "source": [
    "### Agent Memory integration"
   ]
  },
  {
   "cell_type": "code",
   "execution_count": 81,
   "metadata": {},
   "outputs": [
    {
     "name": "stdout",
     "output_type": "stream",
     "text": [
      "================================\u001b[1m Human Message \u001b[0m=================================\n",
      "\n",
      "now divide by 2\n",
      "==================================\u001b[1m Ai Message \u001b[0m==================================\n",
      "Tool Calls:\n",
      "  divide (q6wbf2qq7)\n",
      " Call ID: q6wbf2qq7\n",
      "  Args:\n",
      "    a: 10\n",
      "    b: 2\n",
      "=================================\u001b[1m Tool Message \u001b[0m=================================\n",
      "Name: divide\n",
      "\n",
      "5.0\n",
      "==================================\u001b[1m Ai Message \u001b[0m==================================\n",
      "\n",
      "5.0\n"
     ]
    }
   ],
   "source": [
    "def print_stream(stream):\n",
    "    for s in stream:\n",
    "        message = s[\"messages\"][-1]\n",
    "        if isinstance(message, tuple):\n",
    "            print(message)\n",
    "        else:\n",
    "            message.pretty_print()\n",
    "\n",
    "inputs = {\"messages\": [(\"user\", \"now divide that by 2\")]}\n",
    "print_stream(build.stream(inputs, stream_mode=\"values\"))"
   ]
  },
  {
   "cell_type": "markdown",
   "metadata": {},
   "source": [
    "## Wrong now, so need to add memory"
   ]
  },
  {
   "cell_type": "markdown",
   "metadata": {},
   "source": [
    "## Memory Saver - while compiling, enable it, we will have checkpoints, which will act as memory"
   ]
  },
  {
   "cell_type": "code",
   "execution_count": 82,
   "metadata": {},
   "outputs": [],
   "source": [
    "graph = StateGraph(AgentState)\n",
    "graph.add_node(\"caller\",model_call)\n",
    "tool_node = ToolNode(tools=tools)\n",
    "graph.add_node(\"Toolbox\",tool_node)\n",
    "\n",
    "graph.set_entry_point(\"caller\")\n",
    "graph.add_edge(\"Toolbox\",\"caller\")\n",
    "graph.add_conditional_edges(\n",
    "    \"caller\",\n",
    "    should_continue,\n",
    "    {\n",
    "        \"continue\":\"Toolbox\",\n",
    "        \"end\":END\n",
    "    }\n",
    ")\n",
    "\n",
    "###\n",
    "from langgraph.checkpoint.memory import MemorySaver\n",
    "memo = MemorySaver()\n",
    "build = graph.compile(checkpointer=memo)"
   ]
  },
  {
   "cell_type": "code",
   "execution_count": 83,
   "metadata": {},
   "outputs": [
    {
     "data": {
      "image/png": "[encoded data removed]",
      "text/plain": [
       "<IPython.core.display.Image object>"
      ]
     },
     "metadata": {},
     "output_type": "display_data"
    }
   ],
   "source": [
    "from IPython.display import display,Image\n",
    "display(Image(build.get_graph().draw_mermaid_png()))"
   ]
  },
  {
   "cell_type": "markdown",
   "metadata": {},
   "source": [
    "## Now that we have inMemory, provide a thread for invoking,\n",
    "## Its unique for a user and so diff threads for diff users, and all of them have their context saved"
   ]
  },
  {
   "cell_type": "code",
   "execution_count": 84,
   "metadata": {},
   "outputs": [
    {
     "name": "stdout",
     "output_type": "stream",
     "text": [
      "Tool was called\n",
      "================================\u001b[1m Human Message \u001b[0m=================================\n",
      "\n",
      "Add 40 and  12. Also tell some latest cricket news, and also divide the previous result by 13\n",
      "==================================\u001b[1m Ai Message \u001b[0m==================================\n",
      "Tool Calls:\n",
      "  add (4s9a2gkrv)\n",
      " Call ID: 4s9a2gkrv\n",
      "  Args:\n",
      "    a: 40\n",
      "    b: 12\n",
      "=================================\u001b[1m Tool Message \u001b[0m=================================\n",
      "Name: add\n",
      "\n",
      "52\n",
      "==================================\u001b[1m Ai Message \u001b[0m==================================\n",
      "Tool Calls:\n",
      "  divide (f6mmr6qqw)\n",
      " Call ID: f6mmr6qqw\n",
      "  Args:\n",
      "    a: 52\n",
      "    b: 13\n",
      "=================================\u001b[1m Tool Message \u001b[0m=================================\n",
      "Name: divide\n",
      "\n",
      "4.0\n",
      "==================================\u001b[1m Ai Message \u001b[0m==================================\n",
      "\n",
      "According to Cricbuzz, India won the first ODI against Australia by 5 wickets!  Rohit Sharma scored a brilliant century for India.\n"
     ]
    }
   ],
   "source": [
    "config = {\"configurable\":{\"thread_id\":\"1\"}}\n",
    "## pass config while invoking the graph!\n",
    "\n",
    "inputs = {\"messages\": [(\"user\", \"Add 40 and  12. Also tell some latest cricket news, and also divide the previous result by 13\")]}\n",
    "messages = build.invoke(inputs, config=config)\n",
    "for m in messages['messages']:\n",
    "    m.pretty_print()\n"
   ]
  },
  {
   "cell_type": "code",
   "execution_count": 85,
   "metadata": {},
   "outputs": [
    {
     "name": "stdout",
     "output_type": "stream",
     "text": [
      "================================\u001b[1m Human Message \u001b[0m=================================\n",
      "\n",
      "Add 40 and  12. Also tell some latest cricket news, and also divide the previous result by 13\n",
      "==================================\u001b[1m Ai Message \u001b[0m==================================\n",
      "Tool Calls:\n",
      "  add (4s9a2gkrv)\n",
      " Call ID: 4s9a2gkrv\n",
      "  Args:\n",
      "    a: 40\n",
      "    b: 12\n",
      "=================================\u001b[1m Tool Message \u001b[0m=================================\n",
      "Name: add\n",
      "\n",
      "52\n",
      "==================================\u001b[1m Ai Message \u001b[0m==================================\n",
      "Tool Calls:\n",
      "  divide (f6mmr6qqw)\n",
      " Call ID: f6mmr6qqw\n",
      "  Args:\n",
      "    a: 52\n",
      "    b: 13\n",
      "=================================\u001b[1m Tool Message \u001b[0m=================================\n",
      "Name: divide\n",
      "\n",
      "4.0\n",
      "==================================\u001b[1m Ai Message \u001b[0m==================================\n",
      "\n",
      "According to Cricbuzz, India won the first ODI against Australia by 5 wickets!  Rohit Sharma scored a brilliant century for India.\n",
      "================================\u001b[1m Human Message \u001b[0m=================================\n",
      "\n",
      "now divide the previous result by 2\n",
      "==================================\u001b[1m Ai Message \u001b[0m==================================\n",
      "Tool Calls:\n",
      "  divide (vnfd176tk)\n",
      " Call ID: vnfd176tk\n",
      "  Args:\n",
      "    a: 4\n",
      "    b: 2\n",
      "=================================\u001b[1m Tool Message \u001b[0m=================================\n",
      "Name: divide\n",
      "\n",
      "2.0\n",
      "==================================\u001b[1m Ai Message \u001b[0m==================================\n",
      "\n",
      "2\n"
     ]
    }
   ],
   "source": [
    "inputs = {\"messages\": [(\"user\", \"now divide the previous result by 2\")]}\n",
    "messages = build.invoke(inputs, config=config)\n",
    "for m in messages['messages']:\n",
    "    m.pretty_print()"
   ]
  }
 ],
 "metadata": {
  "kernelspec": {
   "display_name": "myenv",
   "language": "python",
   "name": "python3"
  },
  "language_info": {
   "codemirror_mode": {
    "name": "ipython",
    "version": 3
   },
   "file_extension": ".py",
   "mimetype": "text/x-python",
   "name": "python",
   "nbconvert_exporter": "python",
   "pygments_lexer": "ipython3",
   "version": "3.12.2"
  }
 },
 "nbformat": 4,
 "nbformat_minor": 2
}
