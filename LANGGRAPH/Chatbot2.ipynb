{
 "cells": [
  {
   "cell_type": "markdown",
   "metadata": {},
   "source": [
    "## Chatbot with multiple tools "
   ]
  },
  {
   "cell_type": "code",
   "execution_count": 2,
   "metadata": {},
   "outputs": [],
   "source": [
    "from langchain_community.tools import ArxivQueryRun,WikipediaQueryRun\n",
    "from langchain_community.utilities import WikipediaAPIWrapper,ArxivAPIWrapper"
   ]
  },
  {
   "cell_type": "code",
   "execution_count": 5,
   "metadata": {},
   "outputs": [
    {
     "name": "stdout",
     "output_type": "stream",
     "text": [
      "arxiv\n"
     ]
    }
   ],
   "source": [
    "api_wrapper = ArxivAPIWrapper(top_k_results=2,doc_content_chars_max=500)\n",
    "\n",
    "arxiv = ArxivQueryRun(api_wrapper=api_wrapper)\n",
    "\n",
    "print(arxiv.name)"
   ]
  },
  {
   "cell_type": "code",
   "execution_count": 6,
   "metadata": {},
   "outputs": [
    {
     "data": {
      "text/plain": [
       "\"Published: 2024-07-22\\nTitle: Attention Is All You Need But You Don't Need All Of It For Inference of Large Language Models\\nAuthors: Georgy Tyukin, Gbetondji J-S Dovonon, Jean Kaddour, Pasquale Minervini\\nSummary: The inference demand for LLMs has skyrocketed in recent months, and serving\\nmodels with low latencies remains challenging due to the quadratic input length\\ncomplexity of the attention layers. In this work, we investigate the effect of\\ndropping MLP and attention layers at inference time o\""
      ]
     },
     "execution_count": 6,
     "metadata": {},
     "output_type": "execute_result"
    }
   ],
   "source": [
    "arxiv.invoke(\"Attention is all you need\")"
   ]
  },
  {
   "cell_type": "code",
   "execution_count": 8,
   "metadata": {},
   "outputs": [],
   "source": [
    "from dotenv import load_dotenv\n",
    "load_dotenv()\n",
    "from langchain_groq import ChatGroq\n",
    "import os\n",
    "os.environ[\"GROQ_API_KEY\"] = os.getenv(\"GROQ_API_KEY\")\n",
    "os.environ[\"TAVILY_API_KEY\"] = os.getenv(\"TAVILY_API_KEY\")\n"
   ]
  },
  {
   "cell_type": "code",
   "execution_count": 9,
   "metadata": {},
   "outputs": [
    {
     "name": "stdout",
     "output_type": "stream",
     "text": [
      "Collecting langchain_tavily\n",
      "  Downloading langchain_tavily-0.2.10-py3-none-any.whl.metadata (22 kB)\n",
      "Requirement already satisfied: aiohttp<4.0.0,>=3.11.14 in /Users/baveethora/Desktop/ AgenticAI-Learning/myenv/lib/python3.12/site-packages (from langchain_tavily) (3.12.14)\n",
      "Requirement already satisfied: langchain<0.4.0,>=0.3.20 in /Users/baveethora/Desktop/ AgenticAI-Learning/myenv/lib/python3.12/site-packages (from langchain_tavily) (0.3.26)\n",
      "Requirement already satisfied: langchain-core<0.4.0,>=0.3.15 in /Users/baveethora/Desktop/ AgenticAI-Learning/myenv/lib/python3.12/site-packages (from langchain_tavily) (0.3.69)\n",
      "Requirement already satisfied: requests<3.0.0,>=2.32.3 in /Users/baveethora/Desktop/ AgenticAI-Learning/myenv/lib/python3.12/site-packages (from langchain_tavily) (2.32.4)\n",
      "Requirement already satisfied: aiohappyeyeballs>=2.5.0 in /Users/baveethora/Desktop/ AgenticAI-Learning/myenv/lib/python3.12/site-packages (from aiohttp<4.0.0,>=3.11.14->langchain_tavily) (2.6.1)\n",
      "Requirement already satisfied: aiosignal>=1.4.0 in /Users/baveethora/Desktop/ AgenticAI-Learning/myenv/lib/python3.12/site-packages (from aiohttp<4.0.0,>=3.11.14->langchain_tavily) (1.4.0)\n",
      "Requirement already satisfied: attrs>=17.3.0 in /Users/baveethora/Desktop/ AgenticAI-Learning/myenv/lib/python3.12/site-packages (from aiohttp<4.0.0,>=3.11.14->langchain_tavily) (25.3.0)\n",
      "Requirement already satisfied: frozenlist>=1.1.1 in /Users/baveethora/Desktop/ AgenticAI-Learning/myenv/lib/python3.12/site-packages (from aiohttp<4.0.0,>=3.11.14->langchain_tavily) (1.7.0)\n",
      "Requirement already satisfied: multidict<7.0,>=4.5 in /Users/baveethora/Desktop/ AgenticAI-Learning/myenv/lib/python3.12/site-packages (from aiohttp<4.0.0,>=3.11.14->langchain_tavily) (6.6.3)\n",
      "Requirement already satisfied: propcache>=0.2.0 in /Users/baveethora/Desktop/ AgenticAI-Learning/myenv/lib/python3.12/site-packages (from aiohttp<4.0.0,>=3.11.14->langchain_tavily) (0.3.2)\n",
      "Requirement already satisfied: yarl<2.0,>=1.17.0 in /Users/baveethora/Desktop/ AgenticAI-Learning/myenv/lib/python3.12/site-packages (from aiohttp<4.0.0,>=3.11.14->langchain_tavily) (1.20.1)\n",
      "Requirement already satisfied: langchain-text-splitters<1.0.0,>=0.3.8 in /Users/baveethora/Desktop/ AgenticAI-Learning/myenv/lib/python3.12/site-packages (from langchain<0.4.0,>=0.3.20->langchain_tavily) (0.3.8)\n",
      "Requirement already satisfied: langsmith>=0.1.17 in /Users/baveethora/Desktop/ AgenticAI-Learning/myenv/lib/python3.12/site-packages (from langchain<0.4.0,>=0.3.20->langchain_tavily) (0.4.8)\n",
      "Requirement already satisfied: pydantic<3.0.0,>=2.7.4 in /Users/baveethora/Desktop/ AgenticAI-Learning/myenv/lib/python3.12/site-packages (from langchain<0.4.0,>=0.3.20->langchain_tavily) (2.11.7)\n",
      "Requirement already satisfied: SQLAlchemy<3,>=1.4 in /Users/baveethora/Desktop/ AgenticAI-Learning/myenv/lib/python3.12/site-packages (from langchain<0.4.0,>=0.3.20->langchain_tavily) (2.0.41)\n",
      "Requirement already satisfied: PyYAML>=5.3 in /Users/baveethora/Desktop/ AgenticAI-Learning/myenv/lib/python3.12/site-packages (from langchain<0.4.0,>=0.3.20->langchain_tavily) (6.0.2)\n",
      "Requirement already satisfied: tenacity!=8.4.0,<10.0.0,>=8.1.0 in /Users/baveethora/Desktop/ AgenticAI-Learning/myenv/lib/python3.12/site-packages (from langchain-core<0.4.0,>=0.3.15->langchain_tavily) (9.1.2)\n",
      "Requirement already satisfied: jsonpatch<2.0,>=1.33 in /Users/baveethora/Desktop/ AgenticAI-Learning/myenv/lib/python3.12/site-packages (from langchain-core<0.4.0,>=0.3.15->langchain_tavily) (1.33)\n",
      "Requirement already satisfied: typing-extensions>=4.7 in /Users/baveethora/Desktop/ AgenticAI-Learning/myenv/lib/python3.12/site-packages (from langchain-core<0.4.0,>=0.3.15->langchain_tavily) (4.14.1)\n",
      "Requirement already satisfied: packaging>=23.2 in /Users/baveethora/Desktop/ AgenticAI-Learning/myenv/lib/python3.12/site-packages (from langchain-core<0.4.0,>=0.3.15->langchain_tavily) (25.0)\n",
      "Requirement already satisfied: charset_normalizer<4,>=2 in /Users/baveethora/Desktop/ AgenticAI-Learning/myenv/lib/python3.12/site-packages (from requests<3.0.0,>=2.32.3->langchain_tavily) (3.4.2)\n",
      "Requirement already satisfied: idna<4,>=2.5 in /Users/baveethora/Desktop/ AgenticAI-Learning/myenv/lib/python3.12/site-packages (from requests<3.0.0,>=2.32.3->langchain_tavily) (3.10)\n",
      "Requirement already satisfied: urllib3<3,>=1.21.1 in /Users/baveethora/Desktop/ AgenticAI-Learning/myenv/lib/python3.12/site-packages (from requests<3.0.0,>=2.32.3->langchain_tavily) (2.5.0)\n",
      "Requirement already satisfied: certifi>=2017.4.17 in /Users/baveethora/Desktop/ AgenticAI-Learning/myenv/lib/python3.12/site-packages (from requests<3.0.0,>=2.32.3->langchain_tavily) (2025.7.14)\n",
      "Requirement already satisfied: jsonpointer>=1.9 in /Users/baveethora/Desktop/ AgenticAI-Learning/myenv/lib/python3.12/site-packages (from jsonpatch<2.0,>=1.33->langchain-core<0.4.0,>=0.3.15->langchain_tavily) (3.0.0)\n",
      "Requirement already satisfied: httpx<1,>=0.23.0 in /Users/baveethora/Desktop/ AgenticAI-Learning/myenv/lib/python3.12/site-packages (from langsmith>=0.1.17->langchain<0.4.0,>=0.3.20->langchain_tavily) (0.28.1)\n",
      "Requirement already satisfied: orjson<4.0.0,>=3.9.14 in /Users/baveethora/Desktop/ AgenticAI-Learning/myenv/lib/python3.12/site-packages (from langsmith>=0.1.17->langchain<0.4.0,>=0.3.20->langchain_tavily) (3.11.0)\n",
      "Requirement already satisfied: requests-toolbelt<2.0.0,>=1.0.0 in /Users/baveethora/Desktop/ AgenticAI-Learning/myenv/lib/python3.12/site-packages (from langsmith>=0.1.17->langchain<0.4.0,>=0.3.20->langchain_tavily) (1.0.0)\n",
      "Requirement already satisfied: zstandard<0.24.0,>=0.23.0 in /Users/baveethora/Desktop/ AgenticAI-Learning/myenv/lib/python3.12/site-packages (from langsmith>=0.1.17->langchain<0.4.0,>=0.3.20->langchain_tavily) (0.23.0)\n",
      "Requirement already satisfied: annotated-types>=0.6.0 in /Users/baveethora/Desktop/ AgenticAI-Learning/myenv/lib/python3.12/site-packages (from pydantic<3.0.0,>=2.7.4->langchain<0.4.0,>=0.3.20->langchain_tavily) (0.7.0)\n",
      "Requirement already satisfied: pydantic-core==2.33.2 in /Users/baveethora/Desktop/ AgenticAI-Learning/myenv/lib/python3.12/site-packages (from pydantic<3.0.0,>=2.7.4->langchain<0.4.0,>=0.3.20->langchain_tavily) (2.33.2)\n",
      "Requirement already satisfied: typing-inspection>=0.4.0 in /Users/baveethora/Desktop/ AgenticAI-Learning/myenv/lib/python3.12/site-packages (from pydantic<3.0.0,>=2.7.4->langchain<0.4.0,>=0.3.20->langchain_tavily) (0.4.1)\n",
      "Requirement already satisfied: anyio in /Users/baveethora/Desktop/ AgenticAI-Learning/myenv/lib/python3.12/site-packages (from httpx<1,>=0.23.0->langsmith>=0.1.17->langchain<0.4.0,>=0.3.20->langchain_tavily) (4.9.0)\n",
      "Requirement already satisfied: httpcore==1.* in /Users/baveethora/Desktop/ AgenticAI-Learning/myenv/lib/python3.12/site-packages (from httpx<1,>=0.23.0->langsmith>=0.1.17->langchain<0.4.0,>=0.3.20->langchain_tavily) (1.0.9)\n",
      "Requirement already satisfied: h11>=0.16 in /Users/baveethora/Desktop/ AgenticAI-Learning/myenv/lib/python3.12/site-packages (from httpcore==1.*->httpx<1,>=0.23.0->langsmith>=0.1.17->langchain<0.4.0,>=0.3.20->langchain_tavily) (0.16.0)\n",
      "Requirement already satisfied: sniffio>=1.1 in /Users/baveethora/Desktop/ AgenticAI-Learning/myenv/lib/python3.12/site-packages (from anyio->httpx<1,>=0.23.0->langsmith>=0.1.17->langchain<0.4.0,>=0.3.20->langchain_tavily) (1.3.1)\n",
      "Downloading langchain_tavily-0.2.10-py3-none-any.whl (25 kB)\n",
      "Installing collected packages: langchain_tavily\n",
      "Successfully installed langchain_tavily-0.2.10\n",
      "\n",
      "\u001b[1m[\u001b[0m\u001b[34;49mnotice\u001b[0m\u001b[1;39;49m]\u001b[0m\u001b[39;49m A new release of pip is available: \u001b[0m\u001b[31;49m24.0\u001b[0m\u001b[39;49m -> \u001b[0m\u001b[32;49m25.1.1\u001b[0m\n",
      "\u001b[1m[\u001b[0m\u001b[34;49mnotice\u001b[0m\u001b[1;39;49m]\u001b[0m\u001b[39;49m To update, run: \u001b[0m\u001b[32;49mpip install --upgrade pip\u001b[0m\n"
     ]
    }
   ],
   "source": [
    "!pip install langchain_tavily"
   ]
  },
  {
   "cell_type": "code",
   "execution_count": 11,
   "metadata": {},
   "outputs": [],
   "source": [
    "from langchain_tavily import TavilySearch\n",
    "\n",
    "tavilytool = TavilySearch(\n",
    "    max_results=5,\n",
    "    topic=\"general\",\n",
    ")"
   ]
  },
  {
   "cell_type": "code",
   "execution_count": 15,
   "metadata": {},
   "outputs": [],
   "source": [
    "from langchain_core.messages import HumanMessage,AIMessage"
   ]
  },
  {
   "cell_type": "code",
   "execution_count": 30,
   "metadata": {},
   "outputs": [],
   "source": [
    "\n",
    "llm = ChatGroq(model=\"Gemma2-9b-It\").bind_tools(tools=tools)"
   ]
  },
  {
   "cell_type": "code",
   "execution_count": 31,
   "metadata": {},
   "outputs": [
    {
     "data": {
      "text/plain": [
       "AIMessage(content='', additional_kwargs={'tool_calls': [{'id': '3t1aksy31', 'function': {'arguments': '{\"query\":\"indian news\",\"topic\":\"news\"}', 'name': 'tavily_search'}, 'type': 'function'}]}, response_metadata={'token_usage': {'completion_tokens': 91, 'prompt_tokens': 3158, 'total_tokens': 3249, 'completion_time': 0.165454545, 'prompt_time': 0.064954094, 'queue_time': 0.028695283000000002, 'total_time': 0.230408639}, 'model_name': 'Gemma2-9b-It', 'system_fingerprint': 'fp_10c08bf97d', 'service_tier': 'on_demand', 'finish_reason': 'tool_calls', 'logprobs': None}, id='run--f3bab021-f19b-4092-85a8-60e16cb8fe25-0', tool_calls=[{'name': 'tavily_search', 'args': {'query': 'indian news', 'topic': 'news'}, 'id': '3t1aksy31', 'type': 'tool_call'}], usage_metadata={'input_tokens': 3158, 'output_tokens': 91, 'total_tokens': 3249})"
      ]
     },
     "execution_count": 31,
     "metadata": {},
     "output_type": "execute_result"
    }
   ],
   "source": [
    "llm.invoke([HumanMessage(content=\"Get some recent indian news\")])"
   ]
  },
  {
   "cell_type": "code",
   "execution_count": 26,
   "metadata": {},
   "outputs": [
    {
     "data": {
      "text/plain": [
       "[{'name': 'tavily_search',\n",
       "  'args': {'query': 'indian news', 'topic': 'news'},\n",
       "  'id': 'fj76gfb9m',\n",
       "  'type': 'tool_call'}]"
      ]
     },
     "execution_count": 26,
     "metadata": {},
     "output_type": "execute_result"
    }
   ],
   "source": [
    "toolCalls = llm.invoke([HumanMessage(content=\"Get some recent indian news\")]).tool_calls\n",
    "toolCalls"
   ]
  },
  {
   "cell_type": "code",
   "execution_count": 27,
   "metadata": {},
   "outputs": [],
   "source": [
    "from langgraph.graph import StateGraph, START,END\n",
    "from langchain_core.messages import BaseMessage,HumanMessage,ToolMessage,SystemMessage,AnyMessage\n",
    "from langchain_core.tools import tool\n",
    "from langgraph.graph import add_messages\n",
    "from langgraph.prebuilt import ToolNode,tools_condition\n",
    "from typing import TypedDict,Annotated,Sequence\n",
    "\n",
    "class AgentState(TypedDict):\n",
    "    messages:Annotated[list[AnyMessage],add_messages]"
   ]
  },
  {
   "cell_type": "code",
   "execution_count": 42,
   "metadata": {},
   "outputs": [
    {
     "data": {
      "text/plain": [
       "[ArxivQueryRun(api_wrapper=ArxivAPIWrapper(arxiv_search=<class 'arxiv.Search'>, arxiv_exceptions=(<class 'arxiv.ArxivError'>, <class 'arxiv.UnexpectedEmptyPageError'>, <class 'arxiv.HTTPError'>), top_k_results=2, ARXIV_MAX_QUERY_LENGTH=300, continue_on_failure=False, load_max_docs=100, load_all_available_meta=False, doc_content_chars_max=500)),\n",
       " TavilySearch(max_results=5, topic='general', api_wrapper=TavilySearchAPIWrapper(tavily_api_key=SecretStr('**********'), api_base_url=None)),\n",
       " StructuredTool(name='add', description='This is used to add 2 numbers and returns their sum', args_schema=<class 'langchain_core.utils.pydantic.add'>, func=<function add at 0x120513100>),\n",
       " StructuredTool(name='mul', description='This is used to multiply 2 numbers and returns their product value', args_schema=<class 'langchain_core.utils.pydantic.mul'>, func=<function mul at 0x1204db380>)]"
      ]
     },
     "execution_count": 42,
     "metadata": {},
     "output_type": "execute_result"
    }
   ],
   "source": [
    "@tool\n",
    "def add(a,b):\n",
    "    \"\"\"This is used to add 2 numbers and returns their sum\"\"\"\n",
    "    return a+b\n",
    "@tool\n",
    "def mul(a,b):\n",
    "    \"\"\"This is used to multiply 2 numbers and returns their product value\"\"\"\n",
    "    return a*b\n",
    "\n",
    "tools = [arxiv,tavilytool,add,mul]\n",
    "tools"
   ]
  },
  {
   "cell_type": "code",
   "execution_count": 45,
   "metadata": {},
   "outputs": [],
   "source": [
    "def llm_that_calls_tools(state:AgentState):\n",
    "\n",
    "    return {\"messages\":llm.invoke(state[\"messages\"])}\n",
    "\n",
    "graph = StateGraph(AgentState)\n",
    "graph.add_node(\"LLM_with_capabilities\",llm_that_calls_tools)\n",
    "graph.add_node(\"tools\",ToolNode(tools))\n",
    "graph.set_entry_point(\"LLM_with_capabilities\")\n",
    "graph.add_conditional_edges(\n",
    "    \"LLM_with_capabilities\",\n",
    "    tools_condition,\n",
    ")\n",
    "graph.add_edge(\"tools\",END)\n",
    "build = graph.compile()"
   ]
  },
  {
   "cell_type": "code",
   "execution_count": 46,
   "metadata": {},
   "outputs": [
    {
     "data": {
      "image/png": "[encoded data removed]",
      "text/plain": [
       "<IPython.core.display.Image object>"
      ]
     },
     "metadata": {},
     "output_type": "display_data"
    }
   ],
   "source": [
    "from IPython.display import display,Image\n",
    "display(Image(build.get_graph().draw_mermaid_png()))"
   ]
  },
  {
   "cell_type": "code",
   "execution_count": 50,
   "metadata": {},
   "outputs": [
    {
     "name": "stdout",
     "output_type": "stream",
     "text": [
      "================================\u001b[1m Human Message \u001b[0m=================================\n",
      "\n",
      "Get me some recent indian news\n",
      "==================================\u001b[1m Ai Message \u001b[0m==================================\n",
      "Tool Calls:\n",
      "  tavily_search (vrmgayeyp)\n",
      " Call ID: vrmgayeyp\n",
      "  Args:\n",
      "    query: indian news\n",
      "    topic: news\n",
      "=================================\u001b[1m Tool Message \u001b[0m=================================\n",
      "Name: tavily_search\n",
      "\n",
      "{\"query\": \"indian news\", \"follow_up_questions\": null, \"answer\": null, \"images\": [], \"results\": [{\"url\": \"https://www.indiatoday.in/\", \"title\": \"India Today: Latest News, Breaking News Today - Entertainment ...\", \"content\": \"Check out the latest news from India and around the world. Latest India news on Bollywood, Politics, Business, Cricket, Technology and Travel.\", \"score\": 0.6737291, \"raw_content\": null}, {\"url\": \"https://indianexpress.com/international/\", \"title\": \"International News - The Indian Express\", \"content\": \"International News: Latest News Today, International Headlines and Top Stories from India and Around the Globe | The Indian Express (Opens in new window) *   Image 2: follow us on Facebook.(Opens in new window) *   Image 3: follow us on Twitter.(Opens in new window) *   Image 4: follow us on youtube.(Opens in new window) *   Image 5: follow us on Instagram.(Opens in new window) *   India .(Open in new tab) *   Today’s Paper .Opens in new window *   India .Opens in new window *   UPSC .Opens in new window *   Premium .Opens in new window *   Opinion .Opens in new window *   Tech .Opens in new window *   Videos .Opens in new window *   India .(Open in new tab)\", \"score\": 0.57952, \"raw_content\": null}, {\"url\": \"https://timesofindia.indiatimes.com/\", \"title\": \"Times of India: News - Breaking News, Latest News, India News ...\", \"content\": \"Image 1 *   Live VideosTop Trending Entertainment TOI originals India Viral TOI in-Depth Times Property city Internal Business Health TV Lifestyle Food Tech Auto Music Events Regional Top Tennis Videos                                               Image 9: Coldplay concert viral video: Astronomer CEO caught on kiss cam; Musk reacts Coldplay concert viral video: Astronomer CEO caught on kiss cam; Musk reacts Image 45: Coldplay's crazy concert moments: Astronomer CEO Andy Byron's 'Kiss Cam' incident to honoring Jasprit Bumrah Coldplay's crazy concert moments Image 196: Hindenburg: A fiery descent Image 197: The unbearable weight Image 198: The briefcase Image 206 8 Indian cricketers who never attended college and still made it big Image 208: logo Image 210: Opt out of the sale or sharing of personal information\", \"score\": 0.5608546, \"raw_content\": null}, {\"url\": \"https://www.ndtv.com/\", \"title\": \"NDTV.com: Get Latest News, India News, Breaking News, Today's ...\", \"content\": \"Image 2: img *   Image 96: img### Top 10 Competitive Exams In India Image 98: img Image 102: img Image 113: img *   Image 114: img   *   Image 115: img   *   Image 116: img   Image 117: img *   Image 118: img   *   Image 119: img   *   Image 120: img   Image 121: img *   Image 122: img   *   Image 123: img   *   Image 124: img   Image 125: img *   Image 126: img   *   Image 127: img   *   Image 128: img   Image 129: img Image 133: img *   Image 134: img   *   Image 135: img   *   Image 136: img   Image 137: img Image 138: img Image 139: img Image 140: img Image 157: img Image 158: img Image 159: img\", \"score\": 0.468621, \"raw_content\": null}, {\"url\": \"https://news.google.com/home?hl=en-IN&gl=IN&ceid=IN%3Aen\", \"title\": \"Google News\", \"content\": \"Google News Google News Has words Any time - Any time - Past hour - Past 24 hours Search - About Google - Language & regionEnglish (India) India Google Weather Why Shubhanshu Shukla matters so much for India's space tech Times of India Who is ‘Grand Mufti of India' behind halting Indian nurse Nimisha Priya's execution in Yemen: Know Aboobacker Musliyar ‘Islam has a law’: India's Grand Mufti who helped defer Nimisha Priya execution Times of India Sign in for personalised stories in your briefing and news feed Sign in to get stories based on your interests Times of India ‘Islam has a law’: India's Grand Mufti who helped defer Nimisha Priya execution Google News Search Clear search Google apps\", \"score\": 0.34237418, \"raw_content\": null}], \"response_time\": 1.27}\n"
     ]
    }
   ],
   "source": [
    "user = build.invoke({\"messages\":HumanMessage(content=\"Get me some recent indian news\")})\n",
    "\n",
    "for m in user[\"messages\"]:\n",
    "    m.pretty_print()"
   ]
  }
 ],
 "metadata": {
  "kernelspec": {
   "display_name": "myenv",
   "language": "python",
   "name": "python3"
  },
  "language_info": {
   "codemirror_mode": {
    "name": "ipython",
    "version": 3
   },
   "file_extension": ".py",
   "mimetype": "text/x-python",
   "name": "python",
   "nbconvert_exporter": "python",
   "pygments_lexer": "ipython3",
   "version": "3.12.2"
  }
 },
 "nbformat": 4,
 "nbformat_minor": 2
}
