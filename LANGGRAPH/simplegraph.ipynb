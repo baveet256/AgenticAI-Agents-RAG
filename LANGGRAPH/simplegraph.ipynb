{
 "cells": [
  {
   "cell_type": "code",
   "execution_count": 4,
   "metadata": {},
   "outputs": [],
   "source": [
    "from typing_extensions import TypedDict\n",
    "\n",
    "class State(TypedDict):\n",
    "    graph_info:str\n",
    "\n",
    "\n",
    "def state_play(state: State):\n",
    "    print(\"Hello, I have started\")\n",
    "    return {\"graph_info\":state['graph_info']+\" to play\"}\n",
    "\n",
    "def cricket(state:State):\n",
    "    return {\"graph_info\":state['graph_info']+\" cricket\"}\n",
    "\n",
    "def badminton(state:State):\n",
    "    return {\"graph_info\":state['graph_info']+\" badminton\"}"
   ]
  },
  {
   "cell_type": "markdown",
   "metadata": {},
   "source": [
    "start-> state_play(random_play) -> cricket/badminton - > end"
   ]
  },
  {
   "cell_type": "code",
   "execution_count": 5,
   "metadata": {},
   "outputs": [],
   "source": [
    "from typing import Literal ## return a constant from the given list (so bounded returns only)\n",
    "import random\n",
    "\n",
    "def random_play(state:State)->Literal['cricket','badminton']:\n",
    "\n",
    "    graph_info = state['graph_info']\n",
    "\n",
    "    if random.random() > 0.5 : \n",
    "        return \"cricket\"\n",
    "    else:\n",
    "        return \"badminton\""
   ]
  },
  {
   "cell_type": "code",
   "execution_count": 6,
   "metadata": {},
   "outputs": [
    {
     "data": {
      "text/plain": [
       "<langgraph.graph.state.StateGraph at 0x109733a10>"
      ]
     },
     "execution_count": 6,
     "metadata": {},
     "output_type": "execute_result"
    }
   ],
   "source": [
    "## Build:\n",
    "from langgraph.graph import StateGraph,START,END\n",
    "\n",
    "\n",
    "graph = StateGraph(State)\n",
    "\n",
    "\n",
    "graph.add_node(\"state_play\",state_play)\n",
    "graph.add_node(\"cricket\",cricket)\n",
    "graph.add_node(\"badminton\",badminton)\n",
    "\n",
    "graph.add_edge(START,\"state_play\")\n",
    "\n",
    "graph.add_conditional_edges(\"state_play\",random_play)\n",
    "graph.add_edge(\"cricket\",END)\n",
    "graph.add_edge(\"badminton\",END)"
   ]
  },
  {
   "cell_type": "code",
   "execution_count": 8,
   "metadata": {},
   "outputs": [],
   "source": [
    "graph_build = graph.compile()"
   ]
  },
  {
   "cell_type": "code",
   "execution_count": 9,
   "metadata": {},
   "outputs": [
    {
     "data": {
      "image/png": "[encoded data removed]",
      "text/plain": [
       "<IPython.core.display.Image object>"
      ]
     },
     "metadata": {},
     "output_type": "display_data"
    }
   ],
   "source": [
    "from IPython.display import Image,display\n",
    "display(Image(graph_build.get_graph().draw_mermaid_png()))"
   ]
  },
  {
   "cell_type": "code",
   "execution_count": 29,
   "metadata": {},
   "outputs": [
    {
     "name": "stdout",
     "output_type": "stream",
     "text": [
      "Hello, I have started\n"
     ]
    },
    {
     "data": {
      "text/plain": [
       "{'graph_info': 'Baveet is here, now to play badminton'}"
      ]
     },
     "execution_count": 29,
     "metadata": {},
     "output_type": "execute_result"
    }
   ],
   "source": [
    "## invoking graphs\n",
    "graph_build.invoke({\"graph_info\":\"Baveet is here, now\"})"
   ]
  }
 ],
 "metadata": {
  "kernelspec": {
   "display_name": "base",
   "language": "python",
   "name": "python3"
  },
  "language_info": {
   "codemirror_mode": {
    "name": "ipython",
    "version": 3
   },
   "file_extension": ".py",
   "mimetype": "text/x-python",
   "name": "python",
   "nbconvert_exporter": "python",
   "pygments_lexer": "ipython3",
   "version": "3.12.2"
  }
 },
 "nbformat": 4,
 "nbformat_minor": 2
}
