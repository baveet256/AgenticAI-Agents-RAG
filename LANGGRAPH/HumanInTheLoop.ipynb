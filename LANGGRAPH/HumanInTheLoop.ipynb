{
 "cells": [
  {
   "cell_type": "code",
   "execution_count": 1,
   "metadata": {},
   "outputs": [],
   "source": [
    "from langgraph.graph import StateGraph, START,END\n",
    "from langchain_core.messages import BaseMessage,HumanMessage,ToolMessage,SystemMessage\n",
    "from langchain_core.tools import tool\n",
    "from langgraph.graph import add_messages\n",
    "from langgraph.prebuilt import ToolNode\n",
    "from typing import TypedDict,Annotated,Sequence"
   ]
  },
  {
   "cell_type": "code",
   "execution_count": 2,
   "metadata": {},
   "outputs": [],
   "source": [
    "from dotenv import load_dotenv\n",
    "load_dotenv()\n",
    "from langchain_groq import ChatGroq\n",
    "import os\n",
    "os.environ[\"GROQ_API_KEY\"] = os.getenv(\"GROQ_API_KEY\")\n",
    "os.environ[\"TAVILY_API_KEY\"] = os.getenv(\"TAVILY_API_KEY\")\n",
    "llm = ChatGroq(model=\"Gemma2-9b-It\")\n"
   ]
  },
  {
   "cell_type": "code",
   "execution_count": 3,
   "metadata": {},
   "outputs": [],
   "source": [
    "class AgentState(TypedDict):\n",
    "    messages: Annotated[Sequence[BaseMessage],add_messages]"
   ]
  },
  {
   "cell_type": "code",
   "execution_count": 4,
   "metadata": {},
   "outputs": [],
   "source": [
    "@tool\n",
    "def add(a,b):\n",
    "    \"\"\" This is to add 2 numbers and returns their addition\"\"\"\n",
    "    print(\"Tool was called\")\n",
    "    return a+b\n",
    "\n",
    "def divide(a,b):\n",
    "    \"\"\" This is to divide 2 numbers and returns their division result\"\"\"\n",
    "    return a/b\n",
    "\n",
    "from langchain_tavily import TavilySearch\n",
    "\n",
    "tavilytool = TavilySearch(\n",
    "    max_results=5,\n",
    "    topic=\"general\",\n",
    ")"
   ]
  },
  {
   "cell_type": "code",
   "execution_count": 5,
   "metadata": {},
   "outputs": [],
   "source": [
    "tools = [add,tavilytool,divide]"
   ]
  },
  {
   "cell_type": "code",
   "execution_count": 6,
   "metadata": {},
   "outputs": [],
   "source": [
    "llm = ChatGroq(model=\"Gemma2-9b-It\").bind_tools(tools)"
   ]
  },
  {
   "cell_type": "code",
   "execution_count": 7,
   "metadata": {},
   "outputs": [],
   "source": [
    "def model_call(state:AgentState):\n",
    "    system_prompt = SystemMessage(content=\"You are a helpful assistant, please answer my questions\")\n",
    "    response = llm.invoke([system_prompt] + state['messages'])\n",
    "    return {\"messages\":[response]}"
   ]
  },
  {
   "cell_type": "code",
   "execution_count": 8,
   "metadata": {},
   "outputs": [],
   "source": [
    "def should_continue(state:AgentState):\n",
    "    messages = state['messages']\n",
    "    last_message = messages[-1]\n",
    "    if not last_message.tool_calls:\n",
    "        return \"end\"\n",
    "    return \"continue\""
   ]
  },
  {
   "cell_type": "code",
   "execution_count": 19,
   "metadata": {},
   "outputs": [],
   "source": [
    "graph = StateGraph(AgentState)\n",
    "graph.add_node(\"caller\",model_call)\n",
    "tool_node = ToolNode(tools=tools)\n",
    "graph.add_node(\"Toolbox\",tool_node)\n",
    "\n",
    "graph.set_entry_point(\"caller\")\n",
    "graph.add_edge(\"Toolbox\",\"caller\")\n",
    "graph.add_conditional_edges(\n",
    "    \"caller\",\n",
    "    should_continue,\n",
    "    {\n",
    "        \"continue\":\"Toolbox\",\n",
    "        \"end\":END\n",
    "    }\n",
    ")\n",
    "from langgraph.checkpoint.memory import MemorySaver\n",
    "memo = MemorySaver()\n",
    "build = graph.compile(interrupt_before=[\"caller\"],checkpointer=memo)"
   ]
  },
  {
   "cell_type": "code",
   "execution_count": 20,
   "metadata": {},
   "outputs": [
    {
     "data": {
      "image/png": "[encoded data removed]",
      "text/plain": [
       "<IPython.core.display.Image object>"
      ]
     },
     "metadata": {},
     "output_type": "display_data"
    }
   ],
   "source": [
    "from IPython.display import display,Image\n",
    "display(Image(build.get_graph().draw_mermaid_png()))"
   ]
  },
  {
   "cell_type": "code",
   "execution_count": 21,
   "metadata": {},
   "outputs": [],
   "source": [
    "thread = {\"configurable\":{\"thread_id\":\"12\"}}"
   ]
  },
  {
   "cell_type": "code",
   "execution_count": 38,
   "metadata": {},
   "outputs": [
    {
     "name": "stdout",
     "output_type": "stream",
     "text": [
      "================================\u001b[1m Human Message \u001b[0m=================================\n",
      "\n",
      "Add 40 and  12. Also tell some latest cricket news, and also divide the previous result by 13\n"
     ]
    }
   ],
   "source": [
    "def print_stream(stream):\n",
    "    for s in stream:\n",
    "        message = s[\"messages\"][-1]\n",
    "        if isinstance(message, tuple):\n",
    "            print(message)\n",
    "        else:\n",
    "            message.pretty_print()\n",
    "\n",
    "inputs = {\"messages\": [(\"user\", \"Add 40 and  12. Also tell some latest cricket news, and also divide the previous result by 13\")]}\n",
    "print_stream(build.stream(inputs, stream_mode=\"values\",config=thread))"
   ]
  },
  {
   "cell_type": "code",
   "execution_count": 39,
   "metadata": {},
   "outputs": [
    {
     "data": {
      "text/plain": [
       "StateSnapshot(values={'messages': [HumanMessage(content='Add 40 and  12. Also tell some latest cricket news, and also divide the previous result by 13', additional_kwargs={}, response_metadata={}, id='629d95c5-9c7d-46a9-9da8-c0476c960e11'), HumanMessage(content='No no, add 30 and 11.', additional_kwargs={}, response_metadata={}, id='fa8c1a80-2391-4a83-9c49-32ef1890a144'), HumanMessage(content='', additional_kwargs={}, response_metadata={}, id='a36d6bc4-2fb1-49aa-950a-34a5979196ba'), HumanMessage(content='No no, add 30 and 11.', additional_kwargs={}, response_metadata={}, id='3b787a48-5a4f-403d-b246-011f7b632084'), HumanMessage(content='No no, add 30 and 11.', additional_kwargs={}, response_metadata={}, id='f14689b3-aa7d-427f-9054-013e3b0b6442'), HumanMessage(content='No no, add 30 and 11.', additional_kwargs={}, response_metadata={}, id='65552b56-946e-4494-81ce-00f2064d2d4e'), HumanMessage(content='No no, add 30 and 11.', additional_kwargs={}, response_metadata={}, id='fdfdd04e-3349-4067-8c46-66c399e3ffa0'), HumanMessage(content='No no, add 30 and 11.', additional_kwargs={}, response_metadata={}, id='57dc6624-3ece-4c94-aafc-19d7b0970ddc'), HumanMessage(content='', additional_kwargs={}, response_metadata={}, id='a90fa583-1a3f-4e9b-bc5a-2d8e51a492d6'), HumanMessage(content='Add 40 and  12. Also tell some latest cricket news, and also divide the previous result by 13', additional_kwargs={}, response_metadata={}, id='6098a0e6-29f5-4ed1-8a30-66c8d5ef78d6')]}, next=('caller',), config={'configurable': {'thread_id': '12', 'checkpoint_ns': '', 'checkpoint_id': '1f068342-a9c8-6a7a-800d-132323951d98'}}, metadata={'source': 'loop', 'step': 13, 'parents': {}}, created_at='2025-07-24T02:16:11.097549+00:00', parent_config={'configurable': {'thread_id': '12', 'checkpoint_ns': '', 'checkpoint_id': '1f068342-a9c3-6b74-800c-15fdc0c64ea8'}}, tasks=(PregelTask(id='80248336-9dd2-840c-f7af-e5a35de15fb2', name='caller', path=('__pregel_pull', 'caller'), error=None, interrupts=(), state=None, result=None),), interrupts=())"
      ]
     },
     "execution_count": 39,
     "metadata": {},
     "output_type": "execute_result"
    }
   ],
   "source": [
    "build.get_state(thread)"
   ]
  },
  {
   "cell_type": "code",
   "execution_count": 26,
   "metadata": {},
   "outputs": [
    {
     "data": {
      "text/plain": [
       "('caller',)"
      ]
     },
     "execution_count": 26,
     "metadata": {},
     "output_type": "execute_result"
    }
   ],
   "source": [
    "s = build.get_state(thread)\n",
    "s.next"
   ]
  },
  {
   "cell_type": "code",
   "execution_count": 40,
   "metadata": {},
   "outputs": [
    {
     "data": {
      "text/plain": [
       "{'messages': [HumanMessage(content='Add 40 and  12. Also tell some latest cricket news, and also divide the previous result by 13', additional_kwargs={}, response_metadata={}, id='629d95c5-9c7d-46a9-9da8-c0476c960e11'),\n",
       "  HumanMessage(content='No no, add 30 and 11.', additional_kwargs={}, response_metadata={}, id='fa8c1a80-2391-4a83-9c49-32ef1890a144'),\n",
       "  HumanMessage(content='', additional_kwargs={}, response_metadata={}, id='a36d6bc4-2fb1-49aa-950a-34a5979196ba'),\n",
       "  HumanMessage(content='No no, add 30 and 11.', additional_kwargs={}, response_metadata={}, id='3b787a48-5a4f-403d-b246-011f7b632084'),\n",
       "  HumanMessage(content='No no, add 30 and 11.', additional_kwargs={}, response_metadata={}, id='f14689b3-aa7d-427f-9054-013e3b0b6442'),\n",
       "  HumanMessage(content='No no, add 30 and 11.', additional_kwargs={}, response_metadata={}, id='65552b56-946e-4494-81ce-00f2064d2d4e'),\n",
       "  HumanMessage(content='No no, add 30 and 11.', additional_kwargs={}, response_metadata={}, id='fdfdd04e-3349-4067-8c46-66c399e3ffa0'),\n",
       "  HumanMessage(content='No no, add 30 and 11.', additional_kwargs={}, response_metadata={}, id='57dc6624-3ece-4c94-aafc-19d7b0970ddc'),\n",
       "  HumanMessage(content='', additional_kwargs={}, response_metadata={}, id='a90fa583-1a3f-4e9b-bc5a-2d8e51a492d6'),\n",
       "  HumanMessage(content='Add 40 and  12. Also tell some latest cricket news, and also divide the previous result by 13', additional_kwargs={}, response_metadata={}, id='6098a0e6-29f5-4ed1-8a30-66c8d5ef78d6')]}"
      ]
     },
     "execution_count": 40,
     "metadata": {},
     "output_type": "execute_result"
    }
   ],
   "source": [
    "build.get_state(thread).values"
   ]
  },
  {
   "cell_type": "markdown",
   "metadata": {},
   "source": [
    "#### Updating the state, (as part of human feedback)"
   ]
  },
  {
   "cell_type": "code",
   "execution_count": 42,
   "metadata": {},
   "outputs": [
    {
     "data": {
      "text/plain": [
       "{'messages': [HumanMessage(content='Add 40 and  12. Also tell some latest cricket news, and also divide the previous result by 13', additional_kwargs={}, response_metadata={}, id='629d95c5-9c7d-46a9-9da8-c0476c960e11'),\n",
       "  HumanMessage(content='No no, add 30 and 11.', additional_kwargs={}, response_metadata={}, id='fa8c1a80-2391-4a83-9c49-32ef1890a144'),\n",
       "  HumanMessage(content='', additional_kwargs={}, response_metadata={}, id='a36d6bc4-2fb1-49aa-950a-34a5979196ba'),\n",
       "  HumanMessage(content='No no, add 30 and 11.', additional_kwargs={}, response_metadata={}, id='3b787a48-5a4f-403d-b246-011f7b632084'),\n",
       "  HumanMessage(content='No no, add 30 and 11.', additional_kwargs={}, response_metadata={}, id='f14689b3-aa7d-427f-9054-013e3b0b6442'),\n",
       "  HumanMessage(content='No no, add 30 and 11.', additional_kwargs={}, response_metadata={}, id='65552b56-946e-4494-81ce-00f2064d2d4e'),\n",
       "  HumanMessage(content='No no, add 30 and 11.', additional_kwargs={}, response_metadata={}, id='fdfdd04e-3349-4067-8c46-66c399e3ffa0'),\n",
       "  HumanMessage(content='No no, add 30 and 11.', additional_kwargs={}, response_metadata={}, id='57dc6624-3ece-4c94-aafc-19d7b0970ddc'),\n",
       "  HumanMessage(content='', additional_kwargs={}, response_metadata={}, id='a90fa583-1a3f-4e9b-bc5a-2d8e51a492d6'),\n",
       "  HumanMessage(content='Add 40 and  12. Also tell some latest cricket news, and also divide the previous result by 13', additional_kwargs={}, response_metadata={}, id='6098a0e6-29f5-4ed1-8a30-66c8d5ef78d6'),\n",
       "  AIMessage(content='', additional_kwargs={'tool_calls': [{'id': '8kgpt9ng4', 'function': {'arguments': '{\"a\":40,\"b\":12}', 'name': 'add'}, 'type': 'function'}]}, response_metadata={'token_usage': {'completion_tokens': 88, 'prompt_tokens': 3435, 'total_tokens': 3523, 'completion_time': 0.16, 'prompt_time': 0.066146211, 'queue_time': 0.02705858800000001, 'total_time': 0.226146211}, 'model_name': 'Gemma2-9b-It', 'system_fingerprint': 'fp_10c08bf97d', 'service_tier': 'on_demand', 'finish_reason': 'tool_calls', 'logprobs': None}, id='run--74b922e6-cac2-4cdd-a114-4872320b13c1-0', tool_calls=[{'name': 'add', 'args': {'a': 40, 'b': 12}, 'id': '8kgpt9ng4', 'type': 'tool_call'}], usage_metadata={'input_tokens': 3435, 'output_tokens': 88, 'total_tokens': 3523}),\n",
       "  ToolMessage(content='52', name='add', id='ef595680-2b39-4ee1-992f-956e837472bc', tool_call_id='8kgpt9ng4'),\n",
       "  HumanMessage(content='No no, add 30 and 11.', additional_kwargs={}, response_metadata={}, id='10a4b071-6240-461d-8303-fa09fdcc55d7')]}"
      ]
     },
     "execution_count": 42,
     "metadata": {},
     "output_type": "execute_result"
    }
   ],
   "source": [
    "## updating state\n",
    "\n",
    "build.update_state(thread,{\"messages\":\"No no, add 30 and 11.\"})\n",
    "build.get_state(thread).values\n"
   ]
  },
  {
   "cell_type": "markdown",
   "metadata": {},
   "source": [
    "## To continue with the same prompt just pass no message and run again"
   ]
  },
  {
   "cell_type": "markdown",
   "metadata": {},
   "source": [
    "### Agent Memory integration"
   ]
  },
  {
   "cell_type": "code",
   "execution_count": 43,
   "metadata": {},
   "outputs": [
    {
     "name": "stdout",
     "output_type": "stream",
     "text": [
      "================================\u001b[1m Human Message \u001b[0m=================================\n",
      "\n",
      "No no, add 30 and 11.\n",
      "==================================\u001b[1m Ai Message \u001b[0m==================================\n",
      "Tool Calls:\n",
      "  add (64em46274)\n",
      " Call ID: 64em46274\n",
      "  Args:\n",
      "    a: 30\n",
      "    b: 11\n",
      "Tool was called\n",
      "=================================\u001b[1m Tool Message \u001b[0m=================================\n",
      "Name: add\n",
      "\n",
      "41\n"
     ]
    }
   ],
   "source": [
    "def print_stream(stream):\n",
    "    for s in stream:\n",
    "        message = s[\"messages\"][-1]\n",
    "        if isinstance(message, tuple):\n",
    "            print(message)\n",
    "        else:\n",
    "            message.pretty_print()\n",
    "\n",
    "inputs = {\"messages\": [(\"user\", \"\")]}\n",
    "print_stream(build.stream(None, stream_mode=\"values\",config=thread))"
   ]
  },
  {
   "cell_type": "markdown",
   "metadata": {},
   "source": [
    "## Wrong now, so need to add memory"
   ]
  },
  {
   "cell_type": "markdown",
   "metadata": {},
   "source": [
    "## Memory Saver - while compiling, enable it, we will have checkpoints, which will act as memory"
   ]
  },
  {
   "cell_type": "code",
   "execution_count": 82,
   "metadata": {},
   "outputs": [],
   "source": [
    "graph = StateGraph(AgentState)\n",
    "graph.add_node(\"caller\",model_call)\n",
    "tool_node = ToolNode(tools=tools)\n",
    "graph.add_node(\"Toolbox\",tool_node)\n",
    "\n",
    "graph.set_entry_point(\"caller\")\n",
    "graph.add_edge(\"Toolbox\",\"caller\")\n",
    "graph.add_conditional_edges(\n",
    "    \"caller\",\n",
    "    should_continue,\n",
    "    {\n",
    "        \"continue\":\"Toolbox\",\n",
    "        \"end\":END\n",
    "    }\n",
    ")\n",
    "\n",
    "###\n",
    "from langgraph.checkpoint.memory import MemorySaver\n",
    "memo = MemorySaver()\n",
    "build = graph.compile(checkpointer=memo)"
   ]
  },
  {
   "cell_type": "code",
   "execution_count": 83,
   "metadata": {},
   "outputs": [
    {
     "data": {
      "image/png": "[encoded data removed]",
      "text/plain": [
       "<IPython.core.display.Image object>"
      ]
     },
     "metadata": {},
     "output_type": "display_data"
    }
   ],
   "source": [
    "from IPython.display import display,Image\n",
    "display(Image(build.get_graph().draw_mermaid_png()))"
   ]
  },
  {
   "cell_type": "markdown",
   "metadata": {},
   "source": [
    "## Now that we have inMemory, provide a thread for invoking,\n",
    "## Its unique for a user and so diff threads for diff users, and all of them have their context saved"
   ]
  },
  {
   "cell_type": "code",
   "execution_count": 84,
   "metadata": {},
   "outputs": [
    {
     "name": "stdout",
     "output_type": "stream",
     "text": [
      "Tool was called\n",
      "================================\u001b[1m Human Message \u001b[0m=================================\n",
      "\n",
      "Add 40 and  12. Also tell some latest cricket news, and also divide the previous result by 13\n",
      "==================================\u001b[1m Ai Message \u001b[0m==================================\n",
      "Tool Calls:\n",
      "  add (4s9a2gkrv)\n",
      " Call ID: 4s9a2gkrv\n",
      "  Args:\n",
      "    a: 40\n",
      "    b: 12\n",
      "=================================\u001b[1m Tool Message \u001b[0m=================================\n",
      "Name: add\n",
      "\n",
      "52\n",
      "==================================\u001b[1m Ai Message \u001b[0m==================================\n",
      "Tool Calls:\n",
      "  divide (f6mmr6qqw)\n",
      " Call ID: f6mmr6qqw\n",
      "  Args:\n",
      "    a: 52\n",
      "    b: 13\n",
      "=================================\u001b[1m Tool Message \u001b[0m=================================\n",
      "Name: divide\n",
      "\n",
      "4.0\n",
      "==================================\u001b[1m Ai Message \u001b[0m==================================\n",
      "\n",
      "According to Cricbuzz, India won the first ODI against Australia by 5 wickets!  Rohit Sharma scored a brilliant century for India.\n"
     ]
    }
   ],
   "source": [
    "config = {\"configurable\":{\"thread_id\":\"1\"}}\n",
    "## pass config while invoking the graph!\n",
    "\n",
    "inputs = {\"messages\": [(\"user\", \"Add 40 and  12. Also tell some latest cricket news, and also divide the previous result by 13\")]}\n",
    "messages = build.invoke(inputs, config=config)\n",
    "for m in messages['messages']:\n",
    "    m.pretty_print()\n"
   ]
  },
  {
   "cell_type": "code",
   "execution_count": 85,
   "metadata": {},
   "outputs": [
    {
     "name": "stdout",
     "output_type": "stream",
     "text": [
      "================================\u001b[1m Human Message \u001b[0m=================================\n",
      "\n",
      "Add 40 and  12. Also tell some latest cricket news, and also divide the previous result by 13\n",
      "==================================\u001b[1m Ai Message \u001b[0m==================================\n",
      "Tool Calls:\n",
      "  add (4s9a2gkrv)\n",
      " Call ID: 4s9a2gkrv\n",
      "  Args:\n",
      "    a: 40\n",
      "    b: 12\n",
      "=================================\u001b[1m Tool Message \u001b[0m=================================\n",
      "Name: add\n",
      "\n",
      "52\n",
      "==================================\u001b[1m Ai Message \u001b[0m==================================\n",
      "Tool Calls:\n",
      "  divide (f6mmr6qqw)\n",
      " Call ID: f6mmr6qqw\n",
      "  Args:\n",
      "    a: 52\n",
      "    b: 13\n",
      "=================================\u001b[1m Tool Message \u001b[0m=================================\n",
      "Name: divide\n",
      "\n",
      "4.0\n",
      "==================================\u001b[1m Ai Message \u001b[0m==================================\n",
      "\n",
      "According to Cricbuzz, India won the first ODI against Australia by 5 wickets!  Rohit Sharma scored a brilliant century for India.\n",
      "================================\u001b[1m Human Message \u001b[0m=================================\n",
      "\n",
      "now divide the previous result by 2\n",
      "==================================\u001b[1m Ai Message \u001b[0m==================================\n",
      "Tool Calls:\n",
      "  divide (vnfd176tk)\n",
      " Call ID: vnfd176tk\n",
      "  Args:\n",
      "    a: 4\n",
      "    b: 2\n",
      "=================================\u001b[1m Tool Message \u001b[0m=================================\n",
      "Name: divide\n",
      "\n",
      "2.0\n",
      "==================================\u001b[1m Ai Message \u001b[0m==================================\n",
      "\n",
      "2\n"
     ]
    }
   ],
   "source": [
    "inputs = {\"messages\": [(\"user\", \"now divide the previous result by 2\")]}\n",
    "messages = build.invoke(inputs, config=config)\n",
    "for m in messages['messages']:\n",
    "    m.pretty_print()"
   ]
  }
 ],
 "metadata": {
  "kernelspec": {
   "display_name": "myenv",
   "language": "python",
   "name": "python3"
  },
  "language_info": {
   "codemirror_mode": {
    "name": "ipython",
    "version": 3
   },
   "file_extension": ".py",
   "mimetype": "text/x-python",
   "name": "python",
   "nbconvert_exporter": "python",
   "pygments_lexer": "ipython3",
   "version": "3.12.2"
  }
 },
 "nbformat": 4,
 "nbformat_minor": 2
}
