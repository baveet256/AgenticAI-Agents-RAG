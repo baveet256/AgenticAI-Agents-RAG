{
 "cells": [
  {
   "cell_type": "code",
   "execution_count": 3,
   "metadata": {},
   "outputs": [],
   "source": [
    "## Exploring API keys!\n",
    "from dotenv import load_dotenv\n",
    "load_dotenv()\n",
    "import os\n"
   ]
  },
  {
   "cell_type": "code",
   "execution_count": 4,
   "metadata": {},
   "outputs": [],
   "source": [
    "os.environ['GROQ_API_KEY'] = os.getenv(\"GROQ_API_KEY\")"
   ]
  },
  {
   "cell_type": "code",
   "execution_count": 5,
   "metadata": {},
   "outputs": [
    {
     "name": "stdout",
     "output_type": "stream",
     "text": [
      "Collecting langchain_groq\n",
      "  Downloading langchain_groq-0.3.6-py3-none-any.whl.metadata (2.6 kB)\n",
      "Requirement already satisfied: langchain-core<1.0.0,>=0.3.68 in /Users/baveethora/Desktop/ AgenticAI-Krish/venv/lib/python3.10/site-packages (from langchain_groq) (0.3.68)\n",
      "Requirement already satisfied: groq<1,>=0.29.0 in /Users/baveethora/Desktop/ AgenticAI-Krish/venv/lib/python3.10/site-packages (from langchain_groq) (0.30.0)\n",
      "Requirement already satisfied: anyio<5,>=3.5.0 in /Users/baveethora/Desktop/ AgenticAI-Krish/venv/lib/python3.10/site-packages (from groq<1,>=0.29.0->langchain_groq) (4.9.0)\n",
      "Requirement already satisfied: distro<2,>=1.7.0 in /Users/baveethora/Desktop/ AgenticAI-Krish/venv/lib/python3.10/site-packages (from groq<1,>=0.29.0->langchain_groq) (1.9.0)\n",
      "Requirement already satisfied: httpx<1,>=0.23.0 in /Users/baveethora/Desktop/ AgenticAI-Krish/venv/lib/python3.10/site-packages (from groq<1,>=0.29.0->langchain_groq) (0.28.1)\n",
      "Requirement already satisfied: pydantic<3,>=1.9.0 in /Users/baveethora/Desktop/ AgenticAI-Krish/venv/lib/python3.10/site-packages (from groq<1,>=0.29.0->langchain_groq) (2.11.7)\n",
      "Requirement already satisfied: sniffio in /Users/baveethora/Desktop/ AgenticAI-Krish/venv/lib/python3.10/site-packages (from groq<1,>=0.29.0->langchain_groq) (1.3.1)\n",
      "Requirement already satisfied: typing-extensions<5,>=4.10 in /Users/baveethora/Desktop/ AgenticAI-Krish/venv/lib/python3.10/site-packages (from groq<1,>=0.29.0->langchain_groq) (4.14.0)\n",
      "Requirement already satisfied: exceptiongroup>=1.0.2 in /Users/baveethora/Desktop/ AgenticAI-Krish/venv/lib/python3.10/site-packages (from anyio<5,>=3.5.0->groq<1,>=0.29.0->langchain_groq) (1.3.0)\n",
      "Requirement already satisfied: idna>=2.8 in /Users/baveethora/Desktop/ AgenticAI-Krish/venv/lib/python3.10/site-packages (from anyio<5,>=3.5.0->groq<1,>=0.29.0->langchain_groq) (3.10)\n",
      "Requirement already satisfied: certifi in /Users/baveethora/Desktop/ AgenticAI-Krish/venv/lib/python3.10/site-packages (from httpx<1,>=0.23.0->groq<1,>=0.29.0->langchain_groq) (2025.6.15)\n",
      "Requirement already satisfied: httpcore==1.* in /Users/baveethora/Desktop/ AgenticAI-Krish/venv/lib/python3.10/site-packages (from httpx<1,>=0.23.0->groq<1,>=0.29.0->langchain_groq) (1.0.9)\n",
      "Requirement already satisfied: h11>=0.16 in /Users/baveethora/Desktop/ AgenticAI-Krish/venv/lib/python3.10/site-packages (from httpcore==1.*->httpx<1,>=0.23.0->groq<1,>=0.29.0->langchain_groq) (0.16.0)\n",
      "Requirement already satisfied: langsmith>=0.3.45 in /Users/baveethora/Desktop/ AgenticAI-Krish/venv/lib/python3.10/site-packages (from langchain-core<1.0.0,>=0.3.68->langchain_groq) (0.3.45)\n",
      "Requirement already satisfied: tenacity!=8.4.0,<10.0.0,>=8.1.0 in /Users/baveethora/Desktop/ AgenticAI-Krish/venv/lib/python3.10/site-packages (from langchain-core<1.0.0,>=0.3.68->langchain_groq) (9.1.2)\n",
      "Requirement already satisfied: jsonpatch<2.0,>=1.33 in /Users/baveethora/Desktop/ AgenticAI-Krish/venv/lib/python3.10/site-packages (from langchain-core<1.0.0,>=0.3.68->langchain_groq) (1.33)\n",
      "Requirement already satisfied: PyYAML>=5.3 in /Users/baveethora/Desktop/ AgenticAI-Krish/venv/lib/python3.10/site-packages (from langchain-core<1.0.0,>=0.3.68->langchain_groq) (6.0.2)\n",
      "Requirement already satisfied: packaging<25,>=23.2 in /Users/baveethora/Desktop/ AgenticAI-Krish/venv/lib/python3.10/site-packages (from langchain-core<1.0.0,>=0.3.68->langchain_groq) (24.2)\n",
      "Requirement already satisfied: jsonpointer>=1.9 in /Users/baveethora/Desktop/ AgenticAI-Krish/venv/lib/python3.10/site-packages (from jsonpatch<2.0,>=1.33->langchain-core<1.0.0,>=0.3.68->langchain_groq) (3.0.0)\n",
      "Requirement already satisfied: annotated-types>=0.6.0 in /Users/baveethora/Desktop/ AgenticAI-Krish/venv/lib/python3.10/site-packages (from pydantic<3,>=1.9.0->groq<1,>=0.29.0->langchain_groq) (0.7.0)\n",
      "Requirement already satisfied: pydantic-core==2.33.2 in /Users/baveethora/Desktop/ AgenticAI-Krish/venv/lib/python3.10/site-packages (from pydantic<3,>=1.9.0->groq<1,>=0.29.0->langchain_groq) (2.33.2)\n",
      "Requirement already satisfied: typing-inspection>=0.4.0 in /Users/baveethora/Desktop/ AgenticAI-Krish/venv/lib/python3.10/site-packages (from pydantic<3,>=1.9.0->groq<1,>=0.29.0->langchain_groq) (0.4.1)\n",
      "Requirement already satisfied: orjson<4.0.0,>=3.9.14 in /Users/baveethora/Desktop/ AgenticAI-Krish/venv/lib/python3.10/site-packages (from langsmith>=0.3.45->langchain-core<1.0.0,>=0.3.68->langchain_groq) (3.10.18)\n",
      "Requirement already satisfied: requests<3,>=2 in /Users/baveethora/Desktop/ AgenticAI-Krish/venv/lib/python3.10/site-packages (from langsmith>=0.3.45->langchain-core<1.0.0,>=0.3.68->langchain_groq) (2.32.4)\n",
      "Requirement already satisfied: requests-toolbelt<2.0.0,>=1.0.0 in /Users/baveethora/Desktop/ AgenticAI-Krish/venv/lib/python3.10/site-packages (from langsmith>=0.3.45->langchain-core<1.0.0,>=0.3.68->langchain_groq) (1.0.0)\n",
      "Requirement already satisfied: zstandard<0.24.0,>=0.23.0 in /Users/baveethora/Desktop/ AgenticAI-Krish/venv/lib/python3.10/site-packages (from langsmith>=0.3.45->langchain-core<1.0.0,>=0.3.68->langchain_groq) (0.23.0)\n",
      "Requirement already satisfied: charset_normalizer<4,>=2 in /Users/baveethora/Desktop/ AgenticAI-Krish/venv/lib/python3.10/site-packages (from requests<3,>=2->langsmith>=0.3.45->langchain-core<1.0.0,>=0.3.68->langchain_groq) (3.4.2)\n",
      "Requirement already satisfied: urllib3<3,>=1.21.1 in /Users/baveethora/Desktop/ AgenticAI-Krish/venv/lib/python3.10/site-packages (from requests<3,>=2->langsmith>=0.3.45->langchain-core<1.0.0,>=0.3.68->langchain_groq) (2.4.0)\n",
      "Downloading langchain_groq-0.3.6-py3-none-any.whl (16 kB)\n",
      "Installing collected packages: langchain_groq\n",
      "Successfully installed langchain_groq-0.3.6\n"
     ]
    }
   ],
   "source": [
    "!pip install langchain_groq\n"
   ]
  },
  {
   "cell_type": "code",
   "execution_count": 6,
   "metadata": {},
   "outputs": [],
   "source": [
    "from langchain_groq import ChatGroq\n",
    "from langchain_openai import ChatOpenAI\n",
    "llm = ChatGroq(model=\"Gemma2-9b-It\")"
   ]
  },
  {
   "cell_type": "code",
   "execution_count": 7,
   "metadata": {},
   "outputs": [
    {
     "data": {
      "text/plain": [
       "ChatGroq(client=<groq.resources.chat.completions.Completions object at 0x10df50160>, async_client=<groq.resources.chat.completions.AsyncCompletions object at 0x10df21630>, model_name='Gemma2-9b-It', model_kwargs={}, groq_api_key=SecretStr('**********'))"
      ]
     },
     "execution_count": 7,
     "metadata": {},
     "output_type": "execute_result"
    }
   ],
   "source": [
    "llm"
   ]
  },
  {
   "cell_type": "code",
   "execution_count": 11,
   "metadata": {},
   "outputs": [],
   "source": [
    "from langchain_core.messages import HumanMessage,SystemMessage\n",
    "\n",
    "messages = [\n",
    "    SystemMessage(content=\"Convert the text to Punjabi\"),\n",
    "    HumanMessage(content=\"Hi, how are you?\")\n",
    "]\n",
    "result = llm.invoke(messages)"
   ]
  },
  {
   "cell_type": "code",
   "execution_count": 12,
   "metadata": {},
   "outputs": [
    {
     "data": {
      "text/plain": [
       "'Hello!  Here are a few ways to say \"Hi, how are you?\" in Punjabi:\\n\\n* **ਸਤਿ sri akal, ਕਿਵ ਸੀ? (Sat Shri Akal, Kiva Si?)** - This is a formal and respectful greeting. \"Sat Shri Akal\" means \"Truth is the Supreme Being\" and is a common Punjabi greeting. \"Kiva Si\" means \"How are you?\"\\n* **ਨੀਂ ਠੀਕ ਆ? (Nee Thīk Aa?)** - A more casual way to say \"How are you?\". \"Nee\" means \"You\" and \"Thīk Aa?\" means \"Are you fine?\".\\n\\n\\nLet me know if you have any other phrases you\\'d like to translate!\\n'"
      ]
     },
     "execution_count": 12,
     "metadata": {},
     "output_type": "execute_result"
    }
   ],
   "source": [
    "from langchain_core.output_parsers import StrOutputParser\n",
    "parser = StrOutputParser()\n",
    "parser.invoke(result)"
   ]
  },
  {
   "cell_type": "markdown",
   "metadata": {},
   "source": [
    "## One Go"
   ]
  },
  {
   "cell_type": "code",
   "execution_count": 14,
   "metadata": {},
   "outputs": [
    {
     "data": {
      "text/plain": [
       "'There are a few ways to say \"Hi, how are you?\" in Punjabi, depending on the level of formality:\\n\\n**Informal:**\\n\\n* **\"Салам, кіਵэ  हो?\"** (Salaam, kivi ho?) - This is a common greeting that translates to \"Hello, how are you?\"\\n\\n**More Formal:**\\n\\n* **\"नमस्ते,  ਕਹੋ ਸਿਰਫ਼?\"** (Namaste, kehho sirf?) - This is a more respectful greeting.\\n\\n**Note:** \\n\\n*  The pronunciation of Punjabi can be quite nuanced, so it\\'s helpful to listen to native speakers to get the correct pronunciation. You can find audio examples online. \\n\\n\\n\\nLet me know if you have any other questions!\\n'"
      ]
     },
     "execution_count": 14,
     "metadata": {},
     "output_type": "execute_result"
    }
   ],
   "source": [
    "chain = llm | parser \n",
    "chain.invoke(messages)"
   ]
  },
  {
   "cell_type": "code",
   "execution_count": 15,
   "metadata": {},
   "outputs": [],
   "source": [
    "## Prompt Templates\n",
    "from langchain_core.prompts import ChatPromptTemplate\n",
    "\n",
    "general_prompt = \"Translate the following to {language}.\"\n",
    "\n",
    "prompt = ChatPromptTemplate.from_messages(\n",
    "    ## list of tuples\n",
    "    [(\"system\",general_prompt),(\"user\",\"{text}\")]\n",
    ")"
   ]
  },
  {
   "cell_type": "code",
   "execution_count": 16,
   "metadata": {},
   "outputs": [
    {
     "data": {
      "text/plain": [
       "ChatPromptValue(messages=[SystemMessage(content='Translate the following to hindi.', additional_kwargs={}, response_metadata={}), HumanMessage(content='why is that guy so stupid?', additional_kwargs={}, response_metadata={})])"
      ]
     },
     "execution_count": 16,
     "metadata": {},
     "output_type": "execute_result"
    }
   ],
   "source": [
    "prompt.invoke({\"language\":\"hindi\",\"text\":\"why is that guy so stupid?\"})"
   ]
  },
  {
   "cell_type": "code",
   "execution_count": 20,
   "metadata": {},
   "outputs": [
    {
     "data": {
      "text/plain": [
       "\"वह आदमी इतना मूर्ख क्यों है? \\n\\n(Wah aadmi itna moorkh kyun hai?) \\n\\n\\nLet me know if you have any other phrases you'd like translated!\\n\""
      ]
     },
     "execution_count": 20,
     "metadata": {},
     "output_type": "execute_result"
    }
   ],
   "source": [
    "chain2 = prompt | llm| parser\n",
    "chain2.invoke({\"language\":\"Hindi\",\"text\":\" Why is that guy so stupid?\"})"
   ]
  },
  {
   "cell_type": "markdown",
   "metadata": {},
   "source": [
    "## Vectors and retrievers"
   ]
  },
  {
   "cell_type": "markdown",
   "metadata": {},
   "source": []
  }
 ],
 "metadata": {
  "kernelspec": {
   "display_name": "Python 3",
   "language": "python",
   "name": "python3"
  },
  "language_info": {
   "codemirror_mode": {
    "name": "ipython",
    "version": 3
   },
   "file_extension": ".py",
   "mimetype": "text/x-python",
   "name": "python",
   "nbconvert_exporter": "python",
   "pygments_lexer": "ipython3",
   "version": "3.10.18"
  }
 },
 "nbformat": 4,
 "nbformat_minor": 2
}
