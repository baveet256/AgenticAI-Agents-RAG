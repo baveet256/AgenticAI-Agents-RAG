{
 "cells": [
  {
   "cell_type": "code",
   "execution_count": 4,
   "metadata": {},
   "outputs": [],
   "source": [
    "from langchain_text_splitters import RecursiveCharacterTextSplitter, CharacterTextSplitter"
   ]
  },
  {
   "cell_type": "code",
   "execution_count": 2,
   "metadata": {},
   "outputs": [
    {
     "data": {
      "text/plain": [
       "'The world must be made safe for democracy. Its peace must be planted upon the tested foundations of political liberty. We have no selfish ends to serve. We desire no conquest, no dominion. We seek no indemnities for ourselves, no material compensation for the sacrifices we shall freely make. We are but one of the champions of the rights of mankind. We shall be satisfied when those rights have been made as secure as the faith and the freedom of nations can make them.\\n\\nJust because we fight without rancor and without selfish object, seeking nothing for ourselves but what we shall wish to share with all free peoples, we shall, I feel confident, conduct our operations as belligerents without passion and ourselves observe with proud punctilio the principles of right and of fair play we profess to be fighting for.\\n\\n…\\n\\nIt will be all the easier for us to conduct ourselves as belligerents in a high spirit of right and fairness because we act without animus, not in enmity toward a people or with the desire to bring any injury or disadvantage upon them, but only in armed opposition to an irresponsible government which has thrown aside all considerations of humanity and of right and is running amuck. We are, let me say again, the sincere friends of the German people, and shall desire nothing so much as the early reestablishment of intimate relations of mutual advantage between us—however hard it may be for them, for the time being, to believe that this is spoken from our hearts.\\n\\nWe have borne with their present government through all these bitter months because of that friendship—exercising a patience and forbearance which would otherwise have been impossible. We shall, happily, still have an opportunity to prove that friendship in our daily attitude and actions toward the millions of men and women of German birth and native sympathy who live among us and share our life, and we shall be proud to prove it toward all who are in fact loyal to their neighbors and to the government in the hour of test. They are, most of them, as true and loyal Americans as if they had never known any other fealty or allegiance. They will be prompt to stand with us in rebuking and restraining the few who may be of a different mind and purpose. If there should be disloyalty, it will be dealt with with a firm hand of stern repression; but, if it lifts its head at all, it will lift it only here and there and without countenance except from a lawless and malignant few.\\n\\nIt is a distressing and oppressive duty, gentlemen of the Congress, which I have performed in thus addressing you. There are, it may be, many months of fiery trial and sacrifice ahead of us. It is a fearful thing to lead this great peaceful people into war, into the most terrible and disastrous of all wars, civilization itself seeming to be in the balance. But the right is more precious than peace, and we shall fight for the things which we have always carried nearest our hearts—for democracy, for the right of those who submit to authority to have a voice in their own governments, for the rights and liberties of small nations, for a universal dominion of right by such a concert of free peoples as shall bring peace and safety to all nations and make the world itself at last free.\\n\\nTo such a task we can dedicate our lives and our fortunes, everything that we are and everything that we have, with the pride of those who know that the day has come when America is privileged to spend her blood and her might for the principles that gave her birth and happiness and the peace which she has treasured. God helping her, she can do no other.'"
      ]
     },
     "execution_count": 2,
     "metadata": {},
     "output_type": "execute_result"
    }
   ],
   "source": [
    "with open('speech.txt') as f:\n",
    "    speech_text = f.read()\n",
    "speech_text"
   ]
  },
  {
   "cell_type": "code",
   "execution_count": 5,
   "metadata": {},
   "outputs": [
    {
     "data": {
      "text/plain": [
       "[Document(metadata={'source': 'speech.txt'}, page_content='The world must be made safe for democracy. Its peace must be planted upon the tested foundations of political liberty. We have no selfish ends to serve. We desire no conquest, no dominion. We seek no indemnities for ourselves, no material compensation for the sacrifices we shall freely make. We are but one of the champions of the rights of mankind. We shall be satisfied when those rights have been made as secure as the faith and the freedom of nations can make them.\\n\\nJust because we fight without rancor and without selfish object, seeking nothing for ourselves but what we shall wish to share with all free peoples, we shall, I feel confident, conduct our operations as belligerents without passion and ourselves observe with proud punctilio the principles of right and of fair play we profess to be fighting for.\\n\\n…\\n\\nIt will be all the easier for us to conduct ourselves as belligerents in a high spirit of right and fairness because we act without animus, not in enmity toward a people or with the desire to bring any injury or disadvantage upon them, but only in armed opposition to an irresponsible government which has thrown aside all considerations of humanity and of right and is running amuck. We are, let me say again, the sincere friends of the German people, and shall desire nothing so much as the early reestablishment of intimate relations of mutual advantage between us—however hard it may be for them, for the time being, to believe that this is spoken from our hearts.\\n\\nWe have borne with their present government through all these bitter months because of that friendship—exercising a patience and forbearance which would otherwise have been impossible. We shall, happily, still have an opportunity to prove that friendship in our daily attitude and actions toward the millions of men and women of German birth and native sympathy who live among us and share our life, and we shall be proud to prove it toward all who are in fact loyal to their neighbors and to the government in the hour of test. They are, most of them, as true and loyal Americans as if they had never known any other fealty or allegiance. They will be prompt to stand with us in rebuking and restraining the few who may be of a different mind and purpose. If there should be disloyalty, it will be dealt with with a firm hand of stern repression; but, if it lifts its head at all, it will lift it only here and there and without countenance except from a lawless and malignant few.\\n\\nIt is a distressing and oppressive duty, gentlemen of the Congress, which I have performed in thus addressing you. There are, it may be, many months of fiery trial and sacrifice ahead of us. It is a fearful thing to lead this great peaceful people into war, into the most terrible and disastrous of all wars, civilization itself seeming to be in the balance. But the right is more precious than peace, and we shall fight for the things which we have always carried nearest our hearts—for democracy, for the right of those who submit to authority to have a voice in their own governments, for the rights and liberties of small nations, for a universal dominion of right by such a concert of free peoples as shall bring peace and safety to all nations and make the world itself at last free.\\n\\nTo such a task we can dedicate our lives and our fortunes, everything that we are and everything that we have, with the pride of those who know that the day has come when America is privileged to spend her blood and her might for the principles that gave her birth and happiness and the peace which she has treasured. God helping her, she can do no other.')]"
      ]
     },
     "execution_count": 5,
     "metadata": {},
     "output_type": "execute_result"
    }
   ],
   "source": [
    "from langchain_community.document_loaders import TextLoader\n",
    "text_loader = TextLoader('speech.txt')\n",
    "docs = text_loader.load()\n",
    "docs"
   ]
  },
  {
   "cell_type": "code",
   "execution_count": 3,
   "metadata": {},
   "outputs": [
    {
     "data": {
      "text/plain": [
       "[Document(metadata={}, page_content='The world must be made safe for democracy. Its peace must be planted upon the tested foundations of'),\n",
       " Document(metadata={}, page_content='foundations of political liberty. We have no selfish ends to serve. We desire no conquest, no'),\n",
       " Document(metadata={}, page_content='no conquest, no dominion. We seek no indemnities for ourselves, no material compensation for the'),\n",
       " Document(metadata={}, page_content='for the sacrifices we shall freely make. We are but one of the champions of the rights of mankind.'),\n",
       " Document(metadata={}, page_content='rights of mankind. We shall be satisfied when those rights have been made as secure as the faith'),\n",
       " Document(metadata={}, page_content='secure as the faith and the freedom of nations can make them.'),\n",
       " Document(metadata={}, page_content='Just because we fight without rancor and without selfish object, seeking nothing for ourselves but'),\n",
       " Document(metadata={}, page_content='for ourselves but what we shall wish to share with all free peoples, we shall, I feel confident,'),\n",
       " Document(metadata={}, page_content='I feel confident, conduct our operations as belligerents without passion and ourselves observe with'),\n",
       " Document(metadata={}, page_content='observe with proud punctilio the principles of right and of fair play we profess to be fighting'),\n",
       " Document(metadata={}, page_content='to be fighting for.'),\n",
       " Document(metadata={}, page_content='…'),\n",
       " Document(metadata={}, page_content='It will be all the easier for us to conduct ourselves as belligerents in a high spirit of right and'),\n",
       " Document(metadata={}, page_content='spirit of right and fairness because we act without animus, not in enmity toward a people or with'),\n",
       " Document(metadata={}, page_content='a people or with the desire to bring any injury or disadvantage upon them, but only in armed'),\n",
       " Document(metadata={}, page_content='but only in armed opposition to an irresponsible government which has thrown aside all'),\n",
       " Document(metadata={}, page_content='thrown aside all considerations of humanity and of right and is running amuck. We are, let me say'),\n",
       " Document(metadata={}, page_content='We are, let me say again, the sincere friends of the German people, and shall desire nothing so'),\n",
       " Document(metadata={}, page_content='desire nothing so much as the early reestablishment of intimate relations of mutual advantage'),\n",
       " Document(metadata={}, page_content='of mutual advantage between us—however hard it may be for them, for the time being, to believe that'),\n",
       " Document(metadata={}, page_content='to believe that this is spoken from our hearts.'),\n",
       " Document(metadata={}, page_content='We have borne with their present government through all these bitter months because of that'),\n",
       " Document(metadata={}, page_content='because of that friendship—exercising a patience and forbearance which would otherwise have been'),\n",
       " Document(metadata={}, page_content='otherwise have been impossible. We shall, happily, still have an opportunity to prove that'),\n",
       " Document(metadata={}, page_content='to prove that friendship in our daily attitude and actions toward the millions of men and women of'),\n",
       " Document(metadata={}, page_content='of men and women of German birth and native sympathy who live among us and share our life, and we'),\n",
       " Document(metadata={}, page_content='our life, and we shall be proud to prove it toward all who are in fact loyal to their neighbors and'),\n",
       " Document(metadata={}, page_content='their neighbors and to the government in the hour of test. They are, most of them, as true and'),\n",
       " Document(metadata={}, page_content='them, as true and loyal Americans as if they had never known any other fealty or allegiance. They'),\n",
       " Document(metadata={}, page_content='or allegiance. They will be prompt to stand with us in rebuking and restraining the few who may be'),\n",
       " Document(metadata={}, page_content='the few who may be of a different mind and purpose. If there should be disloyalty, it will be dealt'),\n",
       " Document(metadata={}, page_content='it will be dealt with with a firm hand of stern repression; but, if it lifts its head at all, it'),\n",
       " Document(metadata={}, page_content='its head at all, it will lift it only here and there and without countenance except from a lawless'),\n",
       " Document(metadata={}, page_content='from a lawless and malignant few.'),\n",
       " Document(metadata={}, page_content='It is a distressing and oppressive duty, gentlemen of the Congress, which I have performed in thus'),\n",
       " Document(metadata={}, page_content='performed in thus addressing you. There are, it may be, many months of fiery trial and sacrifice'),\n",
       " Document(metadata={}, page_content='trial and sacrifice ahead of us. It is a fearful thing to lead this great peaceful people into war,'),\n",
       " Document(metadata={}, page_content='people into war, into the most terrible and disastrous of all wars, civilization itself seeming to'),\n",
       " Document(metadata={}, page_content='itself seeming to be in the balance. But the right is more precious than peace, and we shall fight'),\n",
       " Document(metadata={}, page_content='and we shall fight for the things which we have always carried nearest our hearts—for democracy,'),\n",
       " Document(metadata={}, page_content='democracy, for the right of those who submit to authority to have a voice in their own governments,'),\n",
       " Document(metadata={}, page_content='own governments, for the rights and liberties of small nations, for a universal dominion of right'),\n",
       " Document(metadata={}, page_content='dominion of right by such a concert of free peoples as shall bring peace and safety to all nations'),\n",
       " Document(metadata={}, page_content='to all nations and make the world itself at last free.'),\n",
       " Document(metadata={}, page_content='To such a task we can dedicate our lives and our fortunes, everything that we are and everything'),\n",
       " Document(metadata={}, page_content='are and everything that we have, with the pride of those who know that the day has come when'),\n",
       " Document(metadata={}, page_content='day has come when America is privileged to spend her blood and her might for the principles that'),\n",
       " Document(metadata={}, page_content='the principles that gave her birth and happiness and the peace which she has treasured. God helping'),\n",
       " Document(metadata={}, page_content='God helping her, she can do no other.')]"
      ]
     },
     "execution_count": 3,
     "metadata": {},
     "output_type": "execute_result"
    }
   ],
   "source": [
    "text_spliter2 = RecursiveCharacterTextSplitter(chunk_size=100,chunk_overlap=20)\n",
    "text_spliter2.create_documents([speech_text])"
   ]
  },
  {
   "cell_type": "code",
   "execution_count": 7,
   "metadata": {},
   "outputs": [
    {
     "data": {
      "text/plain": [
       "[Document(metadata={'source': 'speech.txt'}, page_content='The world must be made safe for democracy. Its peace must be planted upon the tested foundations of'),\n",
       " Document(metadata={'source': 'speech.txt'}, page_content='foundations of political liberty. We have no selfish ends to serve. We desire no conquest, no'),\n",
       " Document(metadata={'source': 'speech.txt'}, page_content='no conquest, no dominion. We seek no indemnities for ourselves, no material compensation for the'),\n",
       " Document(metadata={'source': 'speech.txt'}, page_content='for the sacrifices we shall freely make. We are but one of the champions of the rights of mankind.'),\n",
       " Document(metadata={'source': 'speech.txt'}, page_content='rights of mankind. We shall be satisfied when those rights have been made as secure as the faith'),\n",
       " Document(metadata={'source': 'speech.txt'}, page_content='secure as the faith and the freedom of nations can make them.'),\n",
       " Document(metadata={'source': 'speech.txt'}, page_content='Just because we fight without rancor and without selfish object, seeking nothing for ourselves but'),\n",
       " Document(metadata={'source': 'speech.txt'}, page_content='for ourselves but what we shall wish to share with all free peoples, we shall, I feel confident,'),\n",
       " Document(metadata={'source': 'speech.txt'}, page_content='I feel confident, conduct our operations as belligerents without passion and ourselves observe with'),\n",
       " Document(metadata={'source': 'speech.txt'}, page_content='observe with proud punctilio the principles of right and of fair play we profess to be fighting'),\n",
       " Document(metadata={'source': 'speech.txt'}, page_content='to be fighting for.'),\n",
       " Document(metadata={'source': 'speech.txt'}, page_content='…'),\n",
       " Document(metadata={'source': 'speech.txt'}, page_content='It will be all the easier for us to conduct ourselves as belligerents in a high spirit of right and'),\n",
       " Document(metadata={'source': 'speech.txt'}, page_content='spirit of right and fairness because we act without animus, not in enmity toward a people or with'),\n",
       " Document(metadata={'source': 'speech.txt'}, page_content='a people or with the desire to bring any injury or disadvantage upon them, but only in armed'),\n",
       " Document(metadata={'source': 'speech.txt'}, page_content='but only in armed opposition to an irresponsible government which has thrown aside all'),\n",
       " Document(metadata={'source': 'speech.txt'}, page_content='thrown aside all considerations of humanity and of right and is running amuck. We are, let me say'),\n",
       " Document(metadata={'source': 'speech.txt'}, page_content='We are, let me say again, the sincere friends of the German people, and shall desire nothing so'),\n",
       " Document(metadata={'source': 'speech.txt'}, page_content='desire nothing so much as the early reestablishment of intimate relations of mutual advantage'),\n",
       " Document(metadata={'source': 'speech.txt'}, page_content='of mutual advantage between us—however hard it may be for them, for the time being, to believe that'),\n",
       " Document(metadata={'source': 'speech.txt'}, page_content='to believe that this is spoken from our hearts.'),\n",
       " Document(metadata={'source': 'speech.txt'}, page_content='We have borne with their present government through all these bitter months because of that'),\n",
       " Document(metadata={'source': 'speech.txt'}, page_content='because of that friendship—exercising a patience and forbearance which would otherwise have been'),\n",
       " Document(metadata={'source': 'speech.txt'}, page_content='otherwise have been impossible. We shall, happily, still have an opportunity to prove that'),\n",
       " Document(metadata={'source': 'speech.txt'}, page_content='to prove that friendship in our daily attitude and actions toward the millions of men and women of'),\n",
       " Document(metadata={'source': 'speech.txt'}, page_content='of men and women of German birth and native sympathy who live among us and share our life, and we'),\n",
       " Document(metadata={'source': 'speech.txt'}, page_content='our life, and we shall be proud to prove it toward all who are in fact loyal to their neighbors and'),\n",
       " Document(metadata={'source': 'speech.txt'}, page_content='their neighbors and to the government in the hour of test. They are, most of them, as true and'),\n",
       " Document(metadata={'source': 'speech.txt'}, page_content='them, as true and loyal Americans as if they had never known any other fealty or allegiance. They'),\n",
       " Document(metadata={'source': 'speech.txt'}, page_content='or allegiance. They will be prompt to stand with us in rebuking and restraining the few who may be'),\n",
       " Document(metadata={'source': 'speech.txt'}, page_content='the few who may be of a different mind and purpose. If there should be disloyalty, it will be dealt'),\n",
       " Document(metadata={'source': 'speech.txt'}, page_content='it will be dealt with with a firm hand of stern repression; but, if it lifts its head at all, it'),\n",
       " Document(metadata={'source': 'speech.txt'}, page_content='its head at all, it will lift it only here and there and without countenance except from a lawless'),\n",
       " Document(metadata={'source': 'speech.txt'}, page_content='from a lawless and malignant few.'),\n",
       " Document(metadata={'source': 'speech.txt'}, page_content='It is a distressing and oppressive duty, gentlemen of the Congress, which I have performed in thus'),\n",
       " Document(metadata={'source': 'speech.txt'}, page_content='performed in thus addressing you. There are, it may be, many months of fiery trial and sacrifice'),\n",
       " Document(metadata={'source': 'speech.txt'}, page_content='trial and sacrifice ahead of us. It is a fearful thing to lead this great peaceful people into war,'),\n",
       " Document(metadata={'source': 'speech.txt'}, page_content='people into war, into the most terrible and disastrous of all wars, civilization itself seeming to'),\n",
       " Document(metadata={'source': 'speech.txt'}, page_content='itself seeming to be in the balance. But the right is more precious than peace, and we shall fight'),\n",
       " Document(metadata={'source': 'speech.txt'}, page_content='and we shall fight for the things which we have always carried nearest our hearts—for democracy,'),\n",
       " Document(metadata={'source': 'speech.txt'}, page_content='democracy, for the right of those who submit to authority to have a voice in their own governments,'),\n",
       " Document(metadata={'source': 'speech.txt'}, page_content='own governments, for the rights and liberties of small nations, for a universal dominion of right'),\n",
       " Document(metadata={'source': 'speech.txt'}, page_content='dominion of right by such a concert of free peoples as shall bring peace and safety to all nations'),\n",
       " Document(metadata={'source': 'speech.txt'}, page_content='to all nations and make the world itself at last free.'),\n",
       " Document(metadata={'source': 'speech.txt'}, page_content='To such a task we can dedicate our lives and our fortunes, everything that we are and everything'),\n",
       " Document(metadata={'source': 'speech.txt'}, page_content='are and everything that we have, with the pride of those who know that the day has come when'),\n",
       " Document(metadata={'source': 'speech.txt'}, page_content='day has come when America is privileged to spend her blood and her might for the principles that'),\n",
       " Document(metadata={'source': 'speech.txt'}, page_content='the principles that gave her birth and happiness and the peace which she has treasured. God helping'),\n",
       " Document(metadata={'source': 'speech.txt'}, page_content='God helping her, she can do no other.')]"
      ]
     },
     "execution_count": 7,
     "metadata": {},
     "output_type": "execute_result"
    }
   ],
   "source": [
    "text_spliter2.split_documents(docs)"
   ]
  },
  {
   "cell_type": "markdown",
   "metadata": {},
   "source": [
    "## When passsing through recursive character text splitter\n",
    "## SO raw text, then text-loader, then  split document is same thing as\n",
    "## raw text and then to create_documents"
   ]
  },
  {
   "cell_type": "code",
   "execution_count": 11,
   "metadata": {},
   "outputs": [
    {
     "name": "stderr",
     "output_type": "stream",
     "text": [
      "Created a chunk of size 470, which is longer than the specified 100\n",
      "Created a chunk of size 347, which is longer than the specified 100\n",
      "Created a chunk of size 668, which is longer than the specified 100\n",
      "Created a chunk of size 982, which is longer than the specified 100\n",
      "Created a chunk of size 789, which is longer than the specified 100\n"
     ]
    },
    {
     "data": {
      "text/plain": [
       "[Document(metadata={'source': 'speech.txt'}, page_content='The world must be made safe for democracy. Its peace must be planted upon the tested foundations of political liberty. We have no selfish ends to serve. We desire no conquest, no dominion. We seek no indemnities for ourselves, no material compensation for the sacrifices we shall freely make. We are but one of the champions of the rights of mankind. We shall be satisfied when those rights have been made as secure as the faith and the freedom of nations can make them.'),\n",
       " Document(metadata={'source': 'speech.txt'}, page_content='Just because we fight without rancor and without selfish object, seeking nothing for ourselves but what we shall wish to share with all free peoples, we shall, I feel confident, conduct our operations as belligerents without passion and ourselves observe with proud punctilio the principles of right and of fair play we profess to be fighting for.'),\n",
       " Document(metadata={'source': 'speech.txt'}, page_content='…'),\n",
       " Document(metadata={'source': 'speech.txt'}, page_content='It will be all the easier for us to conduct ourselves as belligerents in a high spirit of right and fairness because we act without animus, not in enmity toward a people or with the desire to bring any injury or disadvantage upon them, but only in armed opposition to an irresponsible government which has thrown aside all considerations of humanity and of right and is running amuck. We are, let me say again, the sincere friends of the German people, and shall desire nothing so much as the early reestablishment of intimate relations of mutual advantage between us—however hard it may be for them, for the time being, to believe that this is spoken from our hearts.'),\n",
       " Document(metadata={'source': 'speech.txt'}, page_content='We have borne with their present government through all these bitter months because of that friendship—exercising a patience and forbearance which would otherwise have been impossible. We shall, happily, still have an opportunity to prove that friendship in our daily attitude and actions toward the millions of men and women of German birth and native sympathy who live among us and share our life, and we shall be proud to prove it toward all who are in fact loyal to their neighbors and to the government in the hour of test. They are, most of them, as true and loyal Americans as if they had never known any other fealty or allegiance. They will be prompt to stand with us in rebuking and restraining the few who may be of a different mind and purpose. If there should be disloyalty, it will be dealt with with a firm hand of stern repression; but, if it lifts its head at all, it will lift it only here and there and without countenance except from a lawless and malignant few.'),\n",
       " Document(metadata={'source': 'speech.txt'}, page_content='It is a distressing and oppressive duty, gentlemen of the Congress, which I have performed in thus addressing you. There are, it may be, many months of fiery trial and sacrifice ahead of us. It is a fearful thing to lead this great peaceful people into war, into the most terrible and disastrous of all wars, civilization itself seeming to be in the balance. But the right is more precious than peace, and we shall fight for the things which we have always carried nearest our hearts—for democracy, for the right of those who submit to authority to have a voice in their own governments, for the rights and liberties of small nations, for a universal dominion of right by such a concert of free peoples as shall bring peace and safety to all nations and make the world itself at last free.'),\n",
       " Document(metadata={'source': 'speech.txt'}, page_content='To such a task we can dedicate our lives and our fortunes, everything that we are and everything that we have, with the pride of those who know that the day has come when America is privileged to spend her blood and her might for the principles that gave her birth and happiness and the peace which she has treasured. God helping her, she can do no other.')]"
      ]
     },
     "execution_count": 11,
     "metadata": {},
     "output_type": "execute_result"
    }
   ],
   "source": [
    "text_spliter3 = CharacterTextSplitter(separator=\"\\n\\n\", chunk_size=100,chunk_overlap=20)\n",
    "text_spliter3.split_documents(docs)"
   ]
  },
  {
   "cell_type": "markdown",
   "metadata": {},
   "source": [
    "## HTML Header Text Splitter"
   ]
  },
  {
   "cell_type": "markdown",
   "metadata": {},
   "source": [
    "we have the splitter here where you can specify the url and headers to split.\n",
    "\n",
    "define headers on while defining the\n",
    "\n",
    "### html_split = HTMLHeaderTextSplitter(headers_to_split_on)\n",
    "### html_split.split_text_from_url(url)\n"
   ]
  },
  {
   "cell_type": "markdown",
   "metadata": {},
   "source": [
    "## Recursive JSON Head Split"
   ]
  },
  {
   "cell_type": "code",
   "execution_count": null,
   "metadata": {},
   "outputs": [],
   "source": []
  }
 ],
 "metadata": {
  "kernelspec": {
   "display_name": "Python 3",
   "language": "python",
   "name": "python3"
  },
  "language_info": {
   "codemirror_mode": {
    "name": "ipython",
    "version": 3
   },
   "file_extension": ".py",
   "mimetype": "text/x-python",
   "name": "python",
   "nbconvert_exporter": "python",
   "pygments_lexer": "ipython3",
   "version": "3.10.18"
  }
 },
 "nbformat": 4,
 "nbformat_minor": 2
}
